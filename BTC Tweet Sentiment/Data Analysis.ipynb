{
 "cells": [
  {
   "cell_type": "code",
   "execution_count": 56,
   "id": "9dde2a95",
   "metadata": {},
   "outputs": [],
   "source": [
    "import pandas as pd"
   ]
  },
  {
   "cell_type": "markdown",
   "id": "9372976d",
   "metadata": {},
   "source": [
    "#  Read_CSV "
   ]
  },
  {
   "cell_type": "code",
   "execution_count": 57,
   "id": "9d26b2f4",
   "metadata": {},
   "outputs": [
    {
     "data": {
      "text/plain": [
       "Index(['Unnamed: 0', 'Date', 'Tweet', 'Screen_name', 'Source', 'Link',\n",
       "       'Sentiment', 'sent_score', 'New_Sentiment_Score',\n",
       "       'New_Sentiment_State'],\n",
       "      dtype='object')"
      ]
     },
     "execution_count": 57,
     "metadata": {},
     "output_type": "execute_result"
    }
   ],
   "source": [
    "df = pd.read_csv('BTC_tweets_daily_example.csv')\n",
    "df.columns"
   ]
  },
  {
   "cell_type": "markdown",
   "id": "a57b417e",
   "metadata": {},
   "source": [
    "# Preprocessing"
   ]
  },
  {
   "cell_type": "markdown",
   "id": "7806a255",
   "metadata": {},
   "source": [
    "##  Utils fuunctions"
   ]
  },
  {
   "cell_type": "code",
   "execution_count": 58,
   "id": "9132cec7",
   "metadata": {},
   "outputs": [],
   "source": [
    "def count_digit(num):\n",
    "    count = 0\n",
    "    while num != 0:\n",
    "        num //= 10\n",
    "        count += 1\n",
    "    return count\n",
    "\n",
    "def check_shape(df):\n",
    "    rows, cols = df.shape\n",
    "    print(\"\\nNumber or rows in dataset: {}\".format(rows))\n",
    "    print(\"==========================={}\".format(count_digit(rows)*'='))\n",
    "    print(\"\\nNumber or columns in dataset: {}\".format(cols))\n",
    "    print(\"=============================={}\".format(count_digit(cols)*'='))"
   ]
  },
  {
   "cell_type": "markdown",
   "id": "050b6287",
   "metadata": {},
   "source": [
    "##  rename columns"
   ]
  },
  {
   "cell_type": "code",
   "execution_count": 59,
   "id": "e987acc4",
   "metadata": {},
   "outputs": [
    {
     "name": "stdout",
     "output_type": "stream",
     "text": [
      "\n",
      "Number or rows in dataset: 50873\n",
      "================================\n",
      "\n",
      "Number or columns in dataset: 6\n",
      "===============================\n"
     ]
    },
    {
     "data": {
      "text/html": [
       "<div>\n",
       "<style scoped>\n",
       "    .dataframe tbody tr th:only-of-type {\n",
       "        vertical-align: middle;\n",
       "    }\n",
       "\n",
       "    .dataframe tbody tr th {\n",
       "        vertical-align: top;\n",
       "    }\n",
       "\n",
       "    .dataframe thead th {\n",
       "        text-align: right;\n",
       "    }\n",
       "</style>\n",
       "<table border=\"1\" class=\"dataframe\">\n",
       "  <thead>\n",
       "    <tr style=\"text-align: right;\">\n",
       "      <th></th>\n",
       "      <th>id</th>\n",
       "      <th>Date</th>\n",
       "      <th>Tweet</th>\n",
       "      <th>Source</th>\n",
       "      <th>Link</th>\n",
       "      <th>Sentiment</th>\n",
       "    </tr>\n",
       "  </thead>\n",
       "  <tbody>\n",
       "    <tr>\n",
       "      <th>0</th>\n",
       "      <td>0</td>\n",
       "      <td>Fri Mar 23 00:40:32 +0000 2018</td>\n",
       "      <td>RT @ALXTOKEN: Paul Krugman, Nobel Luddite. I h...</td>\n",
       "      <td>[]</td>\n",
       "      <td>&lt;a href=\"http://twitter.com\" rel=\"nofollow\"&gt;Tw...</td>\n",
       "      <td>['neutral']</td>\n",
       "    </tr>\n",
       "    <tr>\n",
       "      <th>1</th>\n",
       "      <td>1</td>\n",
       "      <td>Fri Mar 23 00:40:34 +0000 2018</td>\n",
       "      <td>@lopp @_Kevin_Pham @psycho_sage @naval But @Pr...</td>\n",
       "      <td>[u'Bitcoin']</td>\n",
       "      <td>&lt;a href=\"http://twitter.com/download/android\" ...</td>\n",
       "      <td>['neutral']</td>\n",
       "    </tr>\n",
       "    <tr>\n",
       "      <th>2</th>\n",
       "      <td>2</td>\n",
       "      <td>Fri Mar 23 00:40:35 +0000 2018</td>\n",
       "      <td>RT @tippereconomy: Another use case for #block...</td>\n",
       "      <td>[u'blockchain', u'Tipper', u'TipperEconomy']</td>\n",
       "      <td>&lt;a href=\"http://twitter.com\" rel=\"nofollow\"&gt;Tw...</td>\n",
       "      <td>['positive']</td>\n",
       "    </tr>\n",
       "    <tr>\n",
       "      <th>3</th>\n",
       "      <td>3</td>\n",
       "      <td>Fri Mar 23 00:40:36 +0000 2018</td>\n",
       "      <td>free coins https://t.co/DiuoePJdap</td>\n",
       "      <td>[]</td>\n",
       "      <td>&lt;a href=\"http://twitter.com\" rel=\"nofollow\"&gt;Tw...</td>\n",
       "      <td>['positive']</td>\n",
       "    </tr>\n",
       "    <tr>\n",
       "      <th>4</th>\n",
       "      <td>4</td>\n",
       "      <td>Fri Mar 23 00:40:36 +0000 2018</td>\n",
       "      <td>RT @payvxofficial: WE are happy to announce th...</td>\n",
       "      <td>[]</td>\n",
       "      <td>&lt;a href=\"http://twitter.com/download/android\" ...</td>\n",
       "      <td>['positive']</td>\n",
       "    </tr>\n",
       "  </tbody>\n",
       "</table>\n",
       "</div>"
      ],
      "text/plain": [
       "  id                            Date  \\\n",
       "0  0  Fri Mar 23 00:40:32 +0000 2018   \n",
       "1  1  Fri Mar 23 00:40:34 +0000 2018   \n",
       "2  2  Fri Mar 23 00:40:35 +0000 2018   \n",
       "3  3  Fri Mar 23 00:40:36 +0000 2018   \n",
       "4  4  Fri Mar 23 00:40:36 +0000 2018   \n",
       "\n",
       "                                               Tweet  \\\n",
       "0  RT @ALXTOKEN: Paul Krugman, Nobel Luddite. I h...   \n",
       "1  @lopp @_Kevin_Pham @psycho_sage @naval But @Pr...   \n",
       "2  RT @tippereconomy: Another use case for #block...   \n",
       "3                 free coins https://t.co/DiuoePJdap   \n",
       "4  RT @payvxofficial: WE are happy to announce th...   \n",
       "\n",
       "                                         Source  \\\n",
       "0                                            []   \n",
       "1                                  [u'Bitcoin']   \n",
       "2  [u'blockchain', u'Tipper', u'TipperEconomy']   \n",
       "3                                            []   \n",
       "4                                            []   \n",
       "\n",
       "                                                Link     Sentiment  \n",
       "0  <a href=\"http://twitter.com\" rel=\"nofollow\">Tw...   ['neutral']  \n",
       "1  <a href=\"http://twitter.com/download/android\" ...   ['neutral']  \n",
       "2  <a href=\"http://twitter.com\" rel=\"nofollow\">Tw...  ['positive']  \n",
       "3  <a href=\"http://twitter.com\" rel=\"nofollow\">Tw...  ['positive']  \n",
       "4  <a href=\"http://twitter.com/download/android\" ...  ['positive']  "
      ]
     },
     "execution_count": 59,
     "metadata": {},
     "output_type": "execute_result"
    }
   ],
   "source": [
    "# renamme colummn\n",
    "df.rename(columns = {'Unnamed: 0':'id'}, inplace = True)\n",
    "df = df[['id', 'Date', 'Tweet', 'Source', 'Link', 'Sentiment']]\n",
    "# check the numbber of rows and   coolumnss in datasset\n",
    "check_shape(df)\n",
    "df.head()"
   ]
  },
  {
   "cell_type": "markdown",
   "id": "429207a9",
   "metadata": {},
   "source": [
    "## rename calss names"
   ]
  },
  {
   "cell_type": "code",
   "execution_count": 60,
   "id": "54ea1994",
   "metadata": {},
   "outputs": [
    {
     "data": {
      "text/html": [
       "<div>\n",
       "<style scoped>\n",
       "    .dataframe tbody tr th:only-of-type {\n",
       "        vertical-align: middle;\n",
       "    }\n",
       "\n",
       "    .dataframe tbody tr th {\n",
       "        vertical-align: top;\n",
       "    }\n",
       "\n",
       "    .dataframe thead th {\n",
       "        text-align: right;\n",
       "    }\n",
       "</style>\n",
       "<table border=\"1\" class=\"dataframe\">\n",
       "  <thead>\n",
       "    <tr style=\"text-align: right;\">\n",
       "      <th></th>\n",
       "      <th>id</th>\n",
       "      <th>Date</th>\n",
       "      <th>Tweet</th>\n",
       "      <th>Source</th>\n",
       "      <th>Link</th>\n",
       "      <th>Sentiment</th>\n",
       "    </tr>\n",
       "  </thead>\n",
       "  <tbody>\n",
       "    <tr>\n",
       "      <th>0</th>\n",
       "      <td>0</td>\n",
       "      <td>Fri Mar 23 00:40:32 +0000 2018</td>\n",
       "      <td>RT @ALXTOKEN: Paul Krugman, Nobel Luddite. I h...</td>\n",
       "      <td>[]</td>\n",
       "      <td>&lt;a href=\"http://twitter.com\" rel=\"nofollow\"&gt;Tw...</td>\n",
       "      <td>neutral</td>\n",
       "    </tr>\n",
       "    <tr>\n",
       "      <th>1</th>\n",
       "      <td>1</td>\n",
       "      <td>Fri Mar 23 00:40:34 +0000 2018</td>\n",
       "      <td>@lopp @_Kevin_Pham @psycho_sage @naval But @Pr...</td>\n",
       "      <td>[u'Bitcoin']</td>\n",
       "      <td>&lt;a href=\"http://twitter.com/download/android\" ...</td>\n",
       "      <td>neutral</td>\n",
       "    </tr>\n",
       "    <tr>\n",
       "      <th>2</th>\n",
       "      <td>2</td>\n",
       "      <td>Fri Mar 23 00:40:35 +0000 2018</td>\n",
       "      <td>RT @tippereconomy: Another use case for #block...</td>\n",
       "      <td>[u'blockchain', u'Tipper', u'TipperEconomy']</td>\n",
       "      <td>&lt;a href=\"http://twitter.com\" rel=\"nofollow\"&gt;Tw...</td>\n",
       "      <td>positive</td>\n",
       "    </tr>\n",
       "    <tr>\n",
       "      <th>3</th>\n",
       "      <td>3</td>\n",
       "      <td>Fri Mar 23 00:40:36 +0000 2018</td>\n",
       "      <td>free coins https://t.co/DiuoePJdap</td>\n",
       "      <td>[]</td>\n",
       "      <td>&lt;a href=\"http://twitter.com\" rel=\"nofollow\"&gt;Tw...</td>\n",
       "      <td>positive</td>\n",
       "    </tr>\n",
       "    <tr>\n",
       "      <th>4</th>\n",
       "      <td>4</td>\n",
       "      <td>Fri Mar 23 00:40:36 +0000 2018</td>\n",
       "      <td>RT @payvxofficial: WE are happy to announce th...</td>\n",
       "      <td>[]</td>\n",
       "      <td>&lt;a href=\"http://twitter.com/download/android\" ...</td>\n",
       "      <td>positive</td>\n",
       "    </tr>\n",
       "  </tbody>\n",
       "</table>\n",
       "</div>"
      ],
      "text/plain": [
       "  id                            Date  \\\n",
       "0  0  Fri Mar 23 00:40:32 +0000 2018   \n",
       "1  1  Fri Mar 23 00:40:34 +0000 2018   \n",
       "2  2  Fri Mar 23 00:40:35 +0000 2018   \n",
       "3  3  Fri Mar 23 00:40:36 +0000 2018   \n",
       "4  4  Fri Mar 23 00:40:36 +0000 2018   \n",
       "\n",
       "                                               Tweet  \\\n",
       "0  RT @ALXTOKEN: Paul Krugman, Nobel Luddite. I h...   \n",
       "1  @lopp @_Kevin_Pham @psycho_sage @naval But @Pr...   \n",
       "2  RT @tippereconomy: Another use case for #block...   \n",
       "3                 free coins https://t.co/DiuoePJdap   \n",
       "4  RT @payvxofficial: WE are happy to announce th...   \n",
       "\n",
       "                                         Source  \\\n",
       "0                                            []   \n",
       "1                                  [u'Bitcoin']   \n",
       "2  [u'blockchain', u'Tipper', u'TipperEconomy']   \n",
       "3                                            []   \n",
       "4                                            []   \n",
       "\n",
       "                                                Link Sentiment  \n",
       "0  <a href=\"http://twitter.com\" rel=\"nofollow\">Tw...   neutral  \n",
       "1  <a href=\"http://twitter.com/download/android\" ...   neutral  \n",
       "2  <a href=\"http://twitter.com\" rel=\"nofollow\">Tw...  positive  \n",
       "3  <a href=\"http://twitter.com\" rel=\"nofollow\">Tw...  positive  \n",
       "4  <a href=\"http://twitter.com/download/android\" ...  positive  "
      ]
     },
     "execution_count": 60,
     "metadata": {},
     "output_type": "execute_result"
    }
   ],
   "source": [
    "class_dict = {\"['neutral']\": 'neutral', \"['positive']\": 'positive', \"['negative']\": 'negative'}\n",
    "df['Sentiment'] = df.Sentiment.replace(class_dict)\n",
    "df.head()"
   ]
  },
  {
   "cell_type": "markdown",
   "id": "beb1f516",
   "metadata": {},
   "source": [
    "## remove nan and empty rows"
   ]
  },
  {
   "cell_type": "code",
   "execution_count": 61,
   "id": "9f003ef2",
   "metadata": {},
   "outputs": [
    {
     "name": "stdout",
     "output_type": "stream",
     "text": [
      "\n",
      "Number or rows in dataset: 50866\n",
      "================================\n",
      "\n",
      "Number or columns in dataset: 6\n",
      "===============================\n",
      "\n",
      "Number or rows in dataset: 50852\n",
      "================================\n",
      "\n",
      "Number or columns in dataset: 6\n",
      "===============================\n"
     ]
    }
   ],
   "source": [
    "df = df[df['Sentiment'] != '0.0']\n",
    "check_shape(df)\n",
    "df = df[df.Sentiment.notnull()]\n",
    "check_shape(df)"
   ]
  },
  {
   "cell_type": "markdown",
   "id": "519f076a",
   "metadata": {},
   "source": [
    "# Data Modeling\n",
    "## Hash Tag Analysis"
   ]
  },
  {
   "cell_type": "code",
   "execution_count": 62,
   "id": "f0ae14cc",
   "metadata": {},
   "outputs": [],
   "source": [
    "import re\n",
    "tags_col = df['Source']\n",
    "tags_dics = {}\n",
    "\n",
    "for tag_list in tags_col:\n",
    "    tag_list = re.sub(r\"[\\([{''})\\]]\", \"\", tag_list)\n",
    "    if tag_list!=\"\":\n",
    "        tag_list = tag_list.split(',')\n",
    "        for tag in tag_list:\n",
    "            tag = tag.strip().split('u', 1)[-1]\n",
    "            tags_dics[tag] = tags_dics[tag] + 1 if tag in tags_dics else 1"
   ]
  },
  {
   "cell_type": "code",
   "execution_count": 63,
   "id": "577eaf4a",
   "metadata": {},
   "outputs": [],
   "source": [
    "sorted_tags_dict =  dict(sorted(tags_dics.items(), key=lambda item: item[1], reverse=True)[:10])\n",
    "top_ten_hash_tags = list(sorted_tags_dict.keys())\n",
    "top_ten_hash_count = list(sorted_tags_dict.values())"
   ]
  },
  {
   "cell_type": "code",
   "execution_count": 64,
   "id": "4bd67bbf",
   "metadata": {},
   "outputs": [
    {
     "data": {
      "image/png": "[encoded data removed]",
      "text/plain": [
       "<Figure size 432x288 with 1 Axes>"
      ]
     },
     "metadata": {},
     "output_type": "display_data"
    }
   ],
   "source": [
    "# display classes count\n",
    "import matplotlib.pyplot as plt\n",
    "import numpy as np\n",
    "\n",
    "values = top_ten_hash_count\n",
    "mylabels = top_ten_hash_tags\n",
    "\n",
    "plt.pie(values, labels = mylabels, autopct='%1.1f%%')\n",
    "# plt.legend()\n",
    "plt.show() "
   ]
  },
  {
   "cell_type": "markdown",
   "id": "6833650e",
   "metadata": {},
   "source": [
    "## Tweet Source Analysis"
   ]
  },
  {
   "cell_type": "code",
   "execution_count": 65,
   "id": "0de1d575",
   "metadata": {},
   "outputs": [],
   "source": [
    "tweets_link_col = df['Link']\n",
    "source_dics = {}\n",
    "\n",
    "for tweets_link in tweets_link_col:\n",
    "    start = tweets_link.find(\">\") + len(\">\")\n",
    "#     end = tweets_link.find(\"<\")\n",
    "    source = tweets_link[start:-4]\n",
    "    source_dics[source] = source_dics[source] + 1 if source in source_dics else 1"
   ]
  },
  {
   "cell_type": "code",
   "execution_count": 66,
   "id": "6a43fa47",
   "metadata": {},
   "outputs": [],
   "source": [
    "sorted_source_dict =  dict(sorted(source_dics.items(), key=lambda item: item[1], reverse=True)[:10])\n",
    "top_ten_source_keys = list(sorted_source_dict.keys())\n",
    "top_ten_source_count = list(sorted_source_dict.values())"
   ]
  },
  {
   "cell_type": "code",
   "execution_count": 67,
   "id": "1add1b2a",
   "metadata": {},
   "outputs": [
    {
     "data": {
      "image/png": "[encoded data removed]",
      "text/plain": [
       "<Figure size 432x288 with 1 Axes>"
      ]
     },
     "metadata": {},
     "output_type": "display_data"
    }
   ],
   "source": [
    "# display classes count\n",
    "import matplotlib.pyplot as plt\n",
    "import numpy as np\n",
    "\n",
    "values = top_ten_source_count \n",
    "mylabels = top_ten_source_keys\n",
    "\n",
    "plt.pie(values, labels = mylabels, autopct='%1.1f%%')\n",
    "# plt.legend()\n",
    "plt.show() "
   ]
  },
  {
   "cell_type": "markdown",
   "id": "623c4f82",
   "metadata": {},
   "source": [
    "## Tweet Most Frequent Words Analysis"
   ]
  },
  {
   "cell_type": "code",
   "execution_count": 68,
   "id": "6d5adefb",
   "metadata": {},
   "outputs": [],
   "source": [
    "tweets_link_col = df['Tweet']"
   ]
  },
  {
   "cell_type": "code",
   "execution_count": 69,
   "id": "bb35761a",
   "metadata": {},
   "outputs": [],
   "source": [
    "dftaxes = df"
   ]
  },
  {
   "cell_type": "code",
   "execution_count": 70,
   "id": "75729eb8",
   "metadata": {},
   "outputs": [
    {
     "name": "stdout",
     "output_type": "stream",
     "text": [
      "Requirement already satisfied: nltk in /home/icrl/anaconda3/envs/abdul-tf2x/lib/python3.7/site-packages (3.7)\n",
      "Requirement already satisfied: joblib in /home/icrl/anaconda3/envs/abdul-tf2x/lib/python3.7/site-packages (from nltk) (1.1.0)\n",
      "Requirement already satisfied: click in /home/icrl/anaconda3/envs/abdul-tf2x/lib/python3.7/site-packages (from nltk) (8.1.3)\n",
      "Requirement already satisfied: regex>=2021.8.3 in /home/icrl/anaconda3/envs/abdul-tf2x/lib/python3.7/site-packages (from nltk) (2022.4.24)\n",
      "Requirement already satisfied: tqdm in /home/icrl/anaconda3/envs/abdul-tf2x/lib/python3.7/site-packages (from nltk) (4.64.0)\n",
      "Requirement already satisfied: importlib-metadata in /home/icrl/anaconda3/envs/abdul-tf2x/lib/python3.7/site-packages (from click->nltk) (4.11.3)\n",
      "Requirement already satisfied: typing-extensions>=3.6.4 in /home/icrl/anaconda3/envs/abdul-tf2x/lib/python3.7/site-packages (from importlib-metadata->click->nltk) (4.2.0)\n",
      "Requirement already satisfied: zipp>=0.5 in /home/icrl/anaconda3/envs/abdul-tf2x/lib/python3.7/site-packages (from importlib-metadata->click->nltk) (3.8.0)\n"
     ]
    }
   ],
   "source": [
    "!pip install nltk"
   ]
  },
  {
   "cell_type": "code",
   "execution_count": 71,
   "id": "7801d2a0",
   "metadata": {},
   "outputs": [],
   "source": [
    "import string\n",
    "from nltk.corpus import stopwords\n",
    "from nltk.stem import WordNetLemmatizer"
   ]
  },
  {
   "cell_type": "code",
   "execution_count": null,
   "id": "9f5ad6e2",
   "metadata": {},
   "outputs": [],
   "source": []
  },
  {
   "cell_type": "code",
   "execution_count": 72,
   "id": "ff5a2ccf",
   "metadata": {},
   "outputs": [
    {
     "name": "stderr",
     "output_type": "stream",
     "text": [
      "[nltk_data] Downloading package stopwords to /home/icrl/nltk_data...\n",
      "[nltk_data]   Package stopwords is already up-to-date!\n",
      "[nltk_data] Downloading package wordnet to /home/icrl/nltk_data...\n",
      "[nltk_data]   Package wordnet is already up-to-date!\n"
     ]
    },
    {
     "data": {
      "text/plain": [
       "True"
      ]
     },
     "execution_count": 72,
     "metadata": {},
     "output_type": "execute_result"
    }
   ],
   "source": [
    "import nltk\n",
    "\n",
    "nltk.download('stopwords')\n",
    "nltk.download('wordnet')\n",
    "# nltk.download('omw-1.4')"
   ]
  },
  {
   "cell_type": "code",
   "execution_count": 73,
   "id": "e5c1b2c2",
   "metadata": {},
   "outputs": [
    {
     "name": "stderr",
     "output_type": "stream",
     "text": [
      "/home/icrl/anaconda3/envs/abdul-tf2x/lib/python3.7/site-packages/ipykernel_launcher.py:4: FutureWarning: The default value of regex will change from True to False in a future version.\n",
      "  after removing the cwd from sys.path.\n",
      "/home/icrl/anaconda3/envs/abdul-tf2x/lib/python3.7/site-packages/ipykernel_launcher.py:6: FutureWarning: The default value of regex will change from True to False in a future version.\n",
      "  \n"
     ]
    },
    {
     "data": {
      "text/plain": [
       "<AxesSubplot:>"
      ]
     },
     "execution_count": 73,
     "metadata": {},
     "output_type": "execute_result"
    },
    {
     "data": {
      "image/png": "[encoded data removed]",
      "text/plain": [
       "<Figure size 432x288 with 1 Axes>"
      ]
     },
     "metadata": {
      "needs_background": "light"
     },
     "output_type": "display_data"
    }
   ],
   "source": [
    "dftaxes = df\n",
    "dftaxes['Text_Data'] = dftaxes['Tweet'].apply(\n",
    "    lambda x: \" \".join(x.lower() for x in x.split()))  # lower case conversion\n",
    "dftaxes['Text_Data'] = dftaxes['Text_Data'].str.replace('[^\\w\\s]', '')  # getting rid of special characters\n",
    "dftaxes['Text_Data'] = dftaxes['Text_Data'].str.replace('\\d+',\n",
    "                                                        '')  # removing numeric values from between the words\n",
    "dftaxes['Text_Data'] = dftaxes['Text_Data'].apply(\n",
    "    lambda x: x.translate(string.digits))  # removing numerical numbers\n",
    "stop = stopwords.words('english')\n",
    "dftaxes['Text_Data'] = dftaxes['Text_Data'].apply(\n",
    "    lambda x: \" \".join(x for x in x.split() if x not in stop))  # removing stop words\n",
    "stemmer = WordNetLemmatizer()\n",
    "dftaxes['Text_Data'] = [stemmer.lemmatize(word) for word in\n",
    "                        dftaxes['Text_Data']]  # converting words to their dictionary form\n",
    "dftaxes['Text_Data'] = dftaxes['Text_Data'].str.replace('shall', '')\n",
    "\n",
    "taxfreq = pd.Series(' '.join(dftaxes['Text_Data']).split()).value_counts()[:10]\n",
    "taxfreq.plot(kind='bar')"
   ]
  },
  {
   "cell_type": "code",
   "execution_count": 74,
   "id": "ec68e0e7",
   "metadata": {},
   "outputs": [
    {
     "data": {
      "text/plain": [
       "bitcoin           32224\n",
       "blockchain         7788\n",
       "airdrop            6267\n",
       "cryptocurrency     5959\n",
       "crypto             5803\n",
       "ethereum           4223\n",
       "btc                4079\n",
       "bethereumteam      3967\n",
       "new                3255\n",
       "price              2782\n",
       "dtype: int64"
      ]
     },
     "execution_count": 74,
     "metadata": {},
     "output_type": "execute_result"
    }
   ],
   "source": [
    "taxfreq = pd.Series(' '.join(dftaxes['Text_Data']).split()).value_counts()[:11]\n",
    "del taxfreq['rt']\n",
    "# del r[key]\n",
    "taxfreq"
   ]
  },
  {
   "cell_type": "code",
   "execution_count": 75,
   "id": "4be844ce",
   "metadata": {},
   "outputs": [
    {
     "data": {
      "text/html": [
       "<div>\n",
       "<style scoped>\n",
       "    .dataframe tbody tr th:only-of-type {\n",
       "        vertical-align: middle;\n",
       "    }\n",
       "\n",
       "    .dataframe tbody tr th {\n",
       "        vertical-align: top;\n",
       "    }\n",
       "\n",
       "    .dataframe thead th {\n",
       "        text-align: right;\n",
       "    }\n",
       "</style>\n",
       "<table border=\"1\" class=\"dataframe\">\n",
       "  <thead>\n",
       "    <tr style=\"text-align: right;\">\n",
       "      <th></th>\n",
       "      <th>words</th>\n",
       "      <th>counts</th>\n",
       "    </tr>\n",
       "  </thead>\n",
       "  <tbody>\n",
       "    <tr>\n",
       "      <th>0</th>\n",
       "      <td>bitcoin</td>\n",
       "      <td>32224</td>\n",
       "    </tr>\n",
       "    <tr>\n",
       "      <th>1</th>\n",
       "      <td>blockchain</td>\n",
       "      <td>7788</td>\n",
       "    </tr>\n",
       "    <tr>\n",
       "      <th>2</th>\n",
       "      <td>airdrop</td>\n",
       "      <td>6267</td>\n",
       "    </tr>\n",
       "    <tr>\n",
       "      <th>3</th>\n",
       "      <td>cryptocurrency</td>\n",
       "      <td>5959</td>\n",
       "    </tr>\n",
       "    <tr>\n",
       "      <th>4</th>\n",
       "      <td>crypto</td>\n",
       "      <td>5803</td>\n",
       "    </tr>\n",
       "    <tr>\n",
       "      <th>5</th>\n",
       "      <td>ethereum</td>\n",
       "      <td>4223</td>\n",
       "    </tr>\n",
       "    <tr>\n",
       "      <th>6</th>\n",
       "      <td>btc</td>\n",
       "      <td>4079</td>\n",
       "    </tr>\n",
       "    <tr>\n",
       "      <th>7</th>\n",
       "      <td>bethereumteam</td>\n",
       "      <td>3967</td>\n",
       "    </tr>\n",
       "    <tr>\n",
       "      <th>8</th>\n",
       "      <td>new</td>\n",
       "      <td>3255</td>\n",
       "    </tr>\n",
       "    <tr>\n",
       "      <th>9</th>\n",
       "      <td>price</td>\n",
       "      <td>2782</td>\n",
       "    </tr>\n",
       "  </tbody>\n",
       "</table>\n",
       "</div>"
      ],
      "text/plain": [
       "            words  counts\n",
       "0         bitcoin   32224\n",
       "1      blockchain    7788\n",
       "2         airdrop    6267\n",
       "3  cryptocurrency    5959\n",
       "4          crypto    5803\n",
       "5        ethereum    4223\n",
       "6             btc    4079\n",
       "7   bethereumteam    3967\n",
       "8             new    3255\n",
       "9           price    2782"
      ]
     },
     "execution_count": 75,
     "metadata": {},
     "output_type": "execute_result"
    }
   ],
   "source": [
    "df1 = pd.DataFrame(list(taxfreq.items()), columns=['words', 'counts'])\n",
    "df1"
   ]
  },
  {
   "cell_type": "code",
   "execution_count": 76,
   "id": "6f7ff990",
   "metadata": {},
   "outputs": [
    {
     "data": {
      "image/png": "[encoded data removed]",
      "text/plain": [
       "<Figure size 432x288 with 1 Axes>"
      ]
     },
     "metadata": {
      "needs_background": "light"
     },
     "output_type": "display_data"
    }
   ],
   "source": [
    "import seaborn as sns\n",
    "ax = sns.barplot(y=\"words\", x=\"counts\", data=df1, saturation=.5,\n",
    "                 )"
   ]
  },
  {
   "cell_type": "code",
   "execution_count": 77,
   "id": "eb3ae3fc",
   "metadata": {},
   "outputs": [
    {
     "data": {
      "text/plain": [
       "<AxesSubplot:>"
      ]
     },
     "execution_count": 77,
     "metadata": {},
     "output_type": "execute_result"
    },
    {
     "data": {
      "image/png": "[encoded data removed]",
      "text/plain": [
       "<Figure size 432x288 with 1 Axes>"
      ]
     },
     "metadata": {
      "needs_background": "light"
     },
     "output_type": "display_data"
    }
   ],
   "source": [
    "colors = ['#1f77b4', '#ff7f0e', '#2ca02c', '#d62728', '#9467bd',\n",
    "          '#8c564b', '#e377c2', '#7f7f7f', '#bcbd22', '#17becf']\n",
    "colors = ['#FF40CF', '#FF6FCC', '#FF8ED4', '#c578a8', '#BBA2FF',\n",
    "          '#9FB7FF', '#9AD2FF', '#809FFF', '#8C70FF', '#9A60FF']\n",
    "\n",
    "taxfreq.plot.bar(color= colors)"
   ]
  },
  {
   "cell_type": "markdown",
   "id": "1374c454",
   "metadata": {},
   "source": [
    "## Extract  number of classes aand their count"
   ]
  },
  {
   "cell_type": "code",
   "execution_count": 78,
   "id": "4927ce01",
   "metadata": {},
   "outputs": [
    {
     "name": "stdout",
     "output_type": "stream",
     "text": [
      "\n",
      "Nummber of classes in dataset: 3\n",
      "================================\n",
      "\n",
      "Name of the classes\n",
      "===================\n",
      "\n",
      "['neutral', 'positive', 'negative'] \n",
      "\n"
     ]
    }
   ],
   "source": [
    "classes = list(df.Sentiment.unique())\n",
    "possible_labels = df.Sentiment.unique()\n",
    "print(\"\\nNummber of classes in dataset: {}\".format(len(classes)))\n",
    "print(\"==============================={}\".format(count_digit(len(classes))*'='))\n",
    "print(\"\\nName of the classes\")\n",
    "print(\"===================\\n\")\n",
    "print(classes,\"\\n\")"
   ]
  },
  {
   "cell_type": "code",
   "execution_count": 79,
   "id": "863c2675",
   "metadata": {},
   "outputs": [
    {
     "name": "stdout",
     "output_type": "stream",
     "text": [
      "\n",
      "classes counts\n",
      "==============\n",
      "\n",
      "positive    22937\n",
      "neutral     21932\n",
      "negative     5983\n",
      "Name: Sentiment, dtype: int64\n"
     ]
    }
   ],
   "source": [
    "classes_counts = df.Sentiment.value_counts()\n",
    "print(\"\\nclasses counts\")\n",
    "print(\"==============\\n\")\n",
    "print(classes_counts)"
   ]
  },
  {
   "cell_type": "code",
   "execution_count": 80,
   "id": "c30b3c09",
   "metadata": {},
   "outputs": [
    {
     "data": {
      "image/png": "[encoded data removed]",
      "text/plain": [
       "<Figure size 432x288 with 1 Axes>"
      ]
     },
     "metadata": {},
     "output_type": "display_data"
    }
   ],
   "source": [
    "# display classes count\n",
    "import matplotlib.pyplot as plt\n",
    "import numpy as np\n",
    "\n",
    "values = np.array(classes_counts)\n",
    "mylabels = list(classes_counts.index)\n",
    "\n",
    "plt.pie(values, labels = mylabels)\n",
    "plt.legend()\n",
    "plt.show() "
   ]
  },
  {
   "cell_type": "code",
   "execution_count": 81,
   "id": "306bb2f1",
   "metadata": {},
   "outputs": [
    {
     "data": {
      "image/png": "[encoded data removed]",
      "text/plain": [
       "<Figure size 720x360 with 1 Axes>"
      ]
     },
     "metadata": {
      "needs_background": "light"
     },
     "output_type": "display_data"
    }
   ],
   "source": [
    "fig = plt.figure(figsize = (10, 5))\n",
    " \n",
    "# creating the bar plot\n",
    "plt.bar(mylabels, values, color ='maroon', width=0.3)\n",
    " \n",
    "plt.xlabel(\"CLASSES\")\n",
    "plt.ylabel(\"No. of Tweets\")\n",
    "plt.title(\"Sentiment analysis\")\n",
    "plt.show()"
   ]
  },
  {
   "cell_type": "code",
   "execution_count": null,
   "id": "e0e9e803",
   "metadata": {},
   "outputs": [],
   "source": []
  }
 ],
 "metadata": {
  "kernelspec": {
   "display_name": "Python 3 (ipykernel)",
   "language": "python",
   "name": "python3"
  },
  "language_info": {
   "codemirror_mode": {
    "name": "ipython",
    "version": 3
   },
   "file_extension": ".py",
   "mimetype": "text/x-python",
   "name": "python",
   "nbconvert_exporter": "python",
   "pygments_lexer": "ipython3",
   "version": "3.7.13"
  }
 },
 "nbformat": 4,
 "nbformat_minor": 5
}
