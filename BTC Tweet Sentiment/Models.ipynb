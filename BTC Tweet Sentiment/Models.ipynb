{
 "cells": [
  {
   "cell_type": "code",
   "execution_count": 1,
   "id": "9dde2a95",
   "metadata": {},
   "outputs": [
    {
     "data": {
      "text/plain": [
       "True"
      ]
     },
     "execution_count": 1,
     "metadata": {},
     "output_type": "execute_result"
    }
   ],
   "source": [
    "import torch\n",
    "import pandas as pd\n",
    "from tqdm.notebook import trange, tqdm\n",
    "\n",
    "torch.cuda.is_available()"
   ]
  },
  {
   "cell_type": "markdown",
   "id": "9372976d",
   "metadata": {},
   "source": [
    "#  Read_CSV "
   ]
  },
  {
   "cell_type": "code",
   "execution_count": 39,
   "id": "9d26b2f4",
   "metadata": {},
   "outputs": [
    {
     "data": {
      "text/plain": [
       "Index(['Unnamed: 0', 'Date', 'Tweet', 'Screen_name', 'Source', 'Link',\n",
       "       'Sentiment', 'sent_score', 'New_Sentiment_Score',\n",
       "       'New_Sentiment_State'],\n",
       "      dtype='object')"
      ]
     },
     "execution_count": 39,
     "metadata": {},
     "output_type": "execute_result"
    }
   ],
   "source": [
    "df1 = pd.read_csv('BTC_tweets_daily_example.csv')\n",
    "df1.columns"
   ]
  },
  {
   "cell_type": "markdown",
   "id": "a57b417e",
   "metadata": {},
   "source": [
    "# Preprocessing"
   ]
  },
  {
   "cell_type": "markdown",
   "id": "7806a255",
   "metadata": {},
   "source": [
    "##  Utils fuunctions"
   ]
  },
  {
   "cell_type": "code",
   "execution_count": 40,
   "id": "9132cec7",
   "metadata": {},
   "outputs": [],
   "source": [
    "def count_digit(num):\n",
    "    count = 0\n",
    "    while num != 0:\n",
    "        num //= 10\n",
    "        count += 1\n",
    "    return count\n",
    "\n",
    "def check_shape(df):\n",
    "    rows, cols = df.shape\n",
    "    print(\"\\nNumber or rows in dataset: {}\".format(rows))\n",
    "    print(\"==========================={}\".format(count_digit(rows)*'='))\n",
    "    print(\"\\nNumber or columns in dataset: {}\".format(cols))\n",
    "    print(\"=============================={}\".format(count_digit(cols)*'='))"
   ]
  },
  {
   "cell_type": "markdown",
   "id": "050b6287",
   "metadata": {},
   "source": [
    "##  rename columns"
   ]
  },
  {
   "cell_type": "code",
   "execution_count": 41,
   "id": "e987acc4",
   "metadata": {},
   "outputs": [
    {
     "name": "stdout",
     "output_type": "stream",
     "text": [
      "\n",
      "Number or rows in dataset: 50873\n",
      "================================\n",
      "\n",
      "Number or columns in dataset: 3\n",
      "===============================\n"
     ]
    },
    {
     "data": {
      "text/html": [
       "<div>\n",
       "<style scoped>\n",
       "    .dataframe tbody tr th:only-of-type {\n",
       "        vertical-align: middle;\n",
       "    }\n",
       "\n",
       "    .dataframe tbody tr th {\n",
       "        vertical-align: top;\n",
       "    }\n",
       "\n",
       "    .dataframe thead th {\n",
       "        text-align: right;\n",
       "    }\n",
       "</style>\n",
       "<table border=\"1\" class=\"dataframe\">\n",
       "  <thead>\n",
       "    <tr style=\"text-align: right;\">\n",
       "      <th></th>\n",
       "      <th>id</th>\n",
       "      <th>Tweet</th>\n",
       "      <th>Sentiment</th>\n",
       "    </tr>\n",
       "  </thead>\n",
       "  <tbody>\n",
       "    <tr>\n",
       "      <th>0</th>\n",
       "      <td>0</td>\n",
       "      <td>RT @ALXTOKEN: Paul Krugman, Nobel Luddite. I h...</td>\n",
       "      <td>['neutral']</td>\n",
       "    </tr>\n",
       "    <tr>\n",
       "      <th>1</th>\n",
       "      <td>1</td>\n",
       "      <td>@lopp @_Kevin_Pham @psycho_sage @naval But @Pr...</td>\n",
       "      <td>['neutral']</td>\n",
       "    </tr>\n",
       "    <tr>\n",
       "      <th>2</th>\n",
       "      <td>2</td>\n",
       "      <td>RT @tippereconomy: Another use case for #block...</td>\n",
       "      <td>['positive']</td>\n",
       "    </tr>\n",
       "    <tr>\n",
       "      <th>3</th>\n",
       "      <td>3</td>\n",
       "      <td>free coins https://t.co/DiuoePJdap</td>\n",
       "      <td>['positive']</td>\n",
       "    </tr>\n",
       "    <tr>\n",
       "      <th>4</th>\n",
       "      <td>4</td>\n",
       "      <td>RT @payvxofficial: WE are happy to announce th...</td>\n",
       "      <td>['positive']</td>\n",
       "    </tr>\n",
       "  </tbody>\n",
       "</table>\n",
       "</div>"
      ],
      "text/plain": [
       "  id                                              Tweet     Sentiment\n",
       "0  0  RT @ALXTOKEN: Paul Krugman, Nobel Luddite. I h...   ['neutral']\n",
       "1  1  @lopp @_Kevin_Pham @psycho_sage @naval But @Pr...   ['neutral']\n",
       "2  2  RT @tippereconomy: Another use case for #block...  ['positive']\n",
       "3  3                 free coins https://t.co/DiuoePJdap  ['positive']\n",
       "4  4  RT @payvxofficial: WE are happy to announce th...  ['positive']"
      ]
     },
     "execution_count": 41,
     "metadata": {},
     "output_type": "execute_result"
    }
   ],
   "source": [
    "# renamme colummn\n",
    "df1.rename(columns = {'Unnamed: 0':'id'}, inplace = True)\n",
    "df = df1[['id', 'Tweet', 'Sentiment']]\n",
    "# check the numbber of rows and   coolumnss in datasset\n",
    "check_shape(df)\n",
    "df.head()"
   ]
  },
  {
   "cell_type": "markdown",
   "id": "429207a9",
   "metadata": {},
   "source": [
    "## rename calss names"
   ]
  },
  {
   "cell_type": "code",
   "execution_count": 5,
   "id": "54ea1994",
   "metadata": {},
   "outputs": [
    {
     "data": {
      "text/html": [
       "<div>\n",
       "<style scoped>\n",
       "    .dataframe tbody tr th:only-of-type {\n",
       "        vertical-align: middle;\n",
       "    }\n",
       "\n",
       "    .dataframe tbody tr th {\n",
       "        vertical-align: top;\n",
       "    }\n",
       "\n",
       "    .dataframe thead th {\n",
       "        text-align: right;\n",
       "    }\n",
       "</style>\n",
       "<table border=\"1\" class=\"dataframe\">\n",
       "  <thead>\n",
       "    <tr style=\"text-align: right;\">\n",
       "      <th></th>\n",
       "      <th>id</th>\n",
       "      <th>Tweet</th>\n",
       "      <th>Sentiment</th>\n",
       "    </tr>\n",
       "  </thead>\n",
       "  <tbody>\n",
       "    <tr>\n",
       "      <th>0</th>\n",
       "      <td>0</td>\n",
       "      <td>RT @ALXTOKEN: Paul Krugman, Nobel Luddite. I h...</td>\n",
       "      <td>neutral</td>\n",
       "    </tr>\n",
       "    <tr>\n",
       "      <th>1</th>\n",
       "      <td>1</td>\n",
       "      <td>@lopp @_Kevin_Pham @psycho_sage @naval But @Pr...</td>\n",
       "      <td>neutral</td>\n",
       "    </tr>\n",
       "    <tr>\n",
       "      <th>2</th>\n",
       "      <td>2</td>\n",
       "      <td>RT @tippereconomy: Another use case for #block...</td>\n",
       "      <td>positive</td>\n",
       "    </tr>\n",
       "    <tr>\n",
       "      <th>3</th>\n",
       "      <td>3</td>\n",
       "      <td>free coins https://t.co/DiuoePJdap</td>\n",
       "      <td>positive</td>\n",
       "    </tr>\n",
       "    <tr>\n",
       "      <th>4</th>\n",
       "      <td>4</td>\n",
       "      <td>RT @payvxofficial: WE are happy to announce th...</td>\n",
       "      <td>positive</td>\n",
       "    </tr>\n",
       "  </tbody>\n",
       "</table>\n",
       "</div>"
      ],
      "text/plain": [
       "  id                                              Tweet Sentiment\n",
       "0  0  RT @ALXTOKEN: Paul Krugman, Nobel Luddite. I h...   neutral\n",
       "1  1  @lopp @_Kevin_Pham @psycho_sage @naval But @Pr...   neutral\n",
       "2  2  RT @tippereconomy: Another use case for #block...  positive\n",
       "3  3                 free coins https://t.co/DiuoePJdap  positive\n",
       "4  4  RT @payvxofficial: WE are happy to announce th...  positive"
      ]
     },
     "execution_count": 5,
     "metadata": {},
     "output_type": "execute_result"
    }
   ],
   "source": [
    "class_dict = {\"['neutral']\": 'neutral', \"['positive']\": 'positive', \"['negative']\": 'negative'}\n",
    "df['Sentiment'] = df.Sentiment.replace(class_dict)\n",
    "df.head()"
   ]
  },
  {
   "cell_type": "markdown",
   "id": "beb1f516",
   "metadata": {},
   "source": [
    "## remove nan and empty rows"
   ]
  },
  {
   "cell_type": "code",
   "execution_count": 6,
   "id": "9f003ef2",
   "metadata": {},
   "outputs": [
    {
     "name": "stdout",
     "output_type": "stream",
     "text": [
      "\n",
      "Number or rows in dataset: 50866\n",
      "================================\n",
      "\n",
      "Number or columns in dataset: 3\n",
      "===============================\n",
      "\n",
      "Number or rows in dataset: 50852\n",
      "================================\n",
      "\n",
      "Number or columns in dataset: 3\n",
      "===============================\n"
     ]
    }
   ],
   "source": [
    "df = df[df['Sentiment'] != '0.0']\n",
    "check_shape(df)\n",
    "df = df[df.Sentiment.notnull()]\n",
    "check_shape(df)"
   ]
  },
  {
   "cell_type": "markdown",
   "id": "1374c454",
   "metadata": {},
   "source": [
    "## Extract  number of classes aand their count"
   ]
  },
  {
   "cell_type": "code",
   "execution_count": 7,
   "id": "4927ce01",
   "metadata": {},
   "outputs": [
    {
     "name": "stdout",
     "output_type": "stream",
     "text": [
      "\n",
      "Nummber of classes in dataset: 3\n",
      "================================\n",
      "\n",
      "Name of the classes\n",
      "===================\n",
      "\n",
      "['neutral', 'positive', 'negative'] \n",
      "\n"
     ]
    }
   ],
   "source": [
    "classes = list(df.Sentiment.unique())\n",
    "possible_labels = df.Sentiment.unique()\n",
    "print(\"\\nNummber of classes in dataset: {}\".format(len(classes)))\n",
    "print(\"==============================={}\".format(count_digit(len(classes))*'='))\n",
    "print(\"\\nName of the classes\")\n",
    "print(\"===================\\n\")\n",
    "print(classes,\"\\n\")"
   ]
  },
  {
   "cell_type": "code",
   "execution_count": 8,
   "id": "863c2675",
   "metadata": {},
   "outputs": [
    {
     "name": "stdout",
     "output_type": "stream",
     "text": [
      "\n",
      "classes counts\n",
      "==============\n",
      "\n",
      "positive    22937\n",
      "neutral     21932\n",
      "negative     5983\n",
      "Name: Sentiment, dtype: int64\n"
     ]
    }
   ],
   "source": [
    "classes_counts = df.Sentiment.value_counts()\n",
    "print(\"\\nclasses counts\")\n",
    "print(\"==============\\n\")\n",
    "print(classes_counts)"
   ]
  },
  {
   "cell_type": "code",
   "execution_count": 9,
   "id": "c30b3c09",
   "metadata": {},
   "outputs": [
    {
     "data": {
      "image/png": "[encoded data removed]",
      "text/plain": [
       "<Figure size 432x288 with 1 Axes>"
      ]
     },
     "metadata": {},
     "output_type": "display_data"
    }
   ],
   "source": [
    "# display classes count\n",
    "import matplotlib.pyplot as plt\n",
    "import numpy as np\n",
    "\n",
    "values = np.array(classes_counts)\n",
    "mylabels = list(classes_counts.index)\n",
    "\n",
    "plt.pie(values, labels = mylabels)\n",
    "plt.legend()\n",
    "plt.show() "
   ]
  },
  {
   "cell_type": "code",
   "execution_count": 12,
   "id": "306bb2f1",
   "metadata": {},
   "outputs": [
    {
     "data": {
      "image/png": "[encoded data removed]",
      "text/plain": [
       "<Figure size 720x360 with 1 Axes>"
      ]
     },
     "metadata": {
      "needs_background": "light"
     },
     "output_type": "display_data"
    }
   ],
   "source": [
    "fig = plt.figure(figsize = (10, 5))\n",
    " \n",
    "# creating the bar plot\n",
    "plt.bar(mylabels, values, color ='maroon', width=0.3)\n",
    " \n",
    "plt.xlabel(\"Sentiment Classes\")\n",
    "plt.ylabel(\"Number of Samples\")\n",
    "plt.title(\"Samples of each Sentiment Class\")\n",
    "plt.show()"
   ]
  },
  {
   "cell_type": "markdown",
   "id": "740743a5",
   "metadata": {},
   "source": [
    "## Label Encoding"
   ]
  },
  {
   "cell_type": "code",
   "execution_count": 13,
   "id": "5c1334fe",
   "metadata": {},
   "outputs": [
    {
     "data": {
      "text/plain": [
       "{'neutral': 0, 'positive': 1, 'negative': 2}"
      ]
     },
     "execution_count": 13,
     "metadata": {},
     "output_type": "execute_result"
    }
   ],
   "source": [
    "label_dict = {}\n",
    "for index, possible_label in enumerate(possible_labels):\n",
    "    label_dict[possible_label]= index\n",
    "label_dict"
   ]
  },
  {
   "cell_type": "code",
   "execution_count": 14,
   "id": "d1fb3c98",
   "metadata": {},
   "outputs": [
    {
     "data": {
      "text/html": [
       "<div>\n",
       "<style scoped>\n",
       "    .dataframe tbody tr th:only-of-type {\n",
       "        vertical-align: middle;\n",
       "    }\n",
       "\n",
       "    .dataframe tbody tr th {\n",
       "        vertical-align: top;\n",
       "    }\n",
       "\n",
       "    .dataframe thead th {\n",
       "        text-align: right;\n",
       "    }\n",
       "</style>\n",
       "<table border=\"1\" class=\"dataframe\">\n",
       "  <thead>\n",
       "    <tr style=\"text-align: right;\">\n",
       "      <th></th>\n",
       "      <th>id</th>\n",
       "      <th>Tweet</th>\n",
       "      <th>Sentiment</th>\n",
       "      <th>label</th>\n",
       "    </tr>\n",
       "  </thead>\n",
       "  <tbody>\n",
       "    <tr>\n",
       "      <th>0</th>\n",
       "      <td>0</td>\n",
       "      <td>RT @ALXTOKEN: Paul Krugman, Nobel Luddite. I h...</td>\n",
       "      <td>neutral</td>\n",
       "      <td>0</td>\n",
       "    </tr>\n",
       "    <tr>\n",
       "      <th>1</th>\n",
       "      <td>1</td>\n",
       "      <td>@lopp @_Kevin_Pham @psycho_sage @naval But @Pr...</td>\n",
       "      <td>neutral</td>\n",
       "      <td>0</td>\n",
       "    </tr>\n",
       "    <tr>\n",
       "      <th>2</th>\n",
       "      <td>2</td>\n",
       "      <td>RT @tippereconomy: Another use case for #block...</td>\n",
       "      <td>positive</td>\n",
       "      <td>1</td>\n",
       "    </tr>\n",
       "    <tr>\n",
       "      <th>3</th>\n",
       "      <td>3</td>\n",
       "      <td>free coins https://t.co/DiuoePJdap</td>\n",
       "      <td>positive</td>\n",
       "      <td>1</td>\n",
       "    </tr>\n",
       "    <tr>\n",
       "      <th>4</th>\n",
       "      <td>4</td>\n",
       "      <td>RT @payvxofficial: WE are happy to announce th...</td>\n",
       "      <td>positive</td>\n",
       "      <td>1</td>\n",
       "    </tr>\n",
       "  </tbody>\n",
       "</table>\n",
       "</div>"
      ],
      "text/plain": [
       "  id                                              Tweet Sentiment  label\n",
       "0  0  RT @ALXTOKEN: Paul Krugman, Nobel Luddite. I h...   neutral      0\n",
       "1  1  @lopp @_Kevin_Pham @psycho_sage @naval But @Pr...   neutral      0\n",
       "2  2  RT @tippereconomy: Another use case for #block...  positive      1\n",
       "3  3                 free coins https://t.co/DiuoePJdap  positive      1\n",
       "4  4  RT @payvxofficial: WE are happy to announce th...  positive      1"
      ]
     },
     "execution_count": 14,
     "metadata": {},
     "output_type": "execute_result"
    }
   ],
   "source": [
    "df['label'] = df.Sentiment.replace(label_dict)\n",
    "df.head()"
   ]
  },
  {
   "cell_type": "markdown",
   "id": "df7defba",
   "metadata": {},
   "source": [
    "# Train Test Split"
   ]
  },
  {
   "cell_type": "code",
   "execution_count": 15,
   "id": "501d135b",
   "metadata": {},
   "outputs": [
    {
     "name": "stdout",
     "output_type": "stream",
     "text": [
      "\n",
      "Training Set:\n",
      "\n",
      "Number or rows in dataset: 43224\n",
      "================================\n",
      "\n",
      "Number or columns in dataset: 4\n",
      "===============================\n",
      "\n",
      "Testing Set:\n",
      "\n",
      "Number or rows in dataset: 7628\n",
      "===============================\n",
      "\n",
      "Number or columns in dataset: 4\n",
      "===============================\n"
     ]
    }
   ],
   "source": [
    "from sklearn.model_selection import train_test_split\n",
    "\n",
    "train, val = train_test_split(\n",
    "    df,\n",
    "    test_size=0.15,\n",
    "    random_state=17,\n",
    "    stratify=df.label.values\n",
    ")\n",
    "\n",
    "print(\"\\nTraining Set:\")\n",
    "check_shape(train)\n",
    "print(\"\\nTesting Set:\")\n",
    "check_shape(val)"
   ]
  },
  {
   "cell_type": "code",
   "execution_count": 16,
   "id": "0fc083aa",
   "metadata": {},
   "outputs": [
    {
     "name": "stdout",
     "output_type": "stream",
     "text": [
      "\n",
      "Training Data:\n",
      "=============\n"
     ]
    },
    {
     "data": {
      "text/html": [
       "<div>\n",
       "<style scoped>\n",
       "    .dataframe tbody tr th:only-of-type {\n",
       "        vertical-align: middle;\n",
       "    }\n",
       "\n",
       "    .dataframe tbody tr th {\n",
       "        vertical-align: top;\n",
       "    }\n",
       "\n",
       "    .dataframe thead th {\n",
       "        text-align: right;\n",
       "    }\n",
       "</style>\n",
       "<table border=\"1\" class=\"dataframe\">\n",
       "  <thead>\n",
       "    <tr style=\"text-align: right;\">\n",
       "      <th></th>\n",
       "      <th>id</th>\n",
       "      <th>Tweet</th>\n",
       "      <th>Sentiment</th>\n",
       "      <th>label</th>\n",
       "    </tr>\n",
       "  </thead>\n",
       "  <tbody>\n",
       "    <tr>\n",
       "      <th>40003</th>\n",
       "      <td>39999</td>\n",
       "      <td>Name: WaBi\\nSymbol: WABI\\n24 hour change: -4.1...</td>\n",
       "      <td>negative</td>\n",
       "      <td>2</td>\n",
       "    </tr>\n",
       "    <tr>\n",
       "      <th>22660</th>\n",
       "      <td>22656</td>\n",
       "      <td>RT @FreeZone_one: Freezone will change your li...</td>\n",
       "      <td>neutral</td>\n",
       "      <td>0</td>\n",
       "    </tr>\n",
       "    <tr>\n",
       "      <th>170</th>\n",
       "      <td>170</td>\n",
       "      <td>RT @nfrisbie83: OK Internet... I need your hel...</td>\n",
       "      <td>positive</td>\n",
       "      <td>1</td>\n",
       "    </tr>\n",
       "    <tr>\n",
       "      <th>44649</th>\n",
       "      <td>44645</td>\n",
       "      <td>RT @nfrisbie83: OK Internet... I need your hel...</td>\n",
       "      <td>positive</td>\n",
       "      <td>1</td>\n",
       "    </tr>\n",
       "    <tr>\n",
       "      <th>36573</th>\n",
       "      <td>36569</td>\n",
       "      <td>get it @bethereumteam #bethereum #BountyCampai...</td>\n",
       "      <td>neutral</td>\n",
       "      <td>0</td>\n",
       "    </tr>\n",
       "  </tbody>\n",
       "</table>\n",
       "</div>"
      ],
      "text/plain": [
       "          id                                              Tweet Sentiment  \\\n",
       "40003  39999  Name: WaBi\\nSymbol: WABI\\n24 hour change: -4.1...  negative   \n",
       "22660  22656  RT @FreeZone_one: Freezone will change your li...   neutral   \n",
       "170      170  RT @nfrisbie83: OK Internet... I need your hel...  positive   \n",
       "44649  44645  RT @nfrisbie83: OK Internet... I need your hel...  positive   \n",
       "36573  36569  get it @bethereumteam #bethereum #BountyCampai...   neutral   \n",
       "\n",
       "       label  \n",
       "40003      2  \n",
       "22660      0  \n",
       "170        1  \n",
       "44649      1  \n",
       "36573      0  "
      ]
     },
     "execution_count": 16,
     "metadata": {},
     "output_type": "execute_result"
    }
   ],
   "source": [
    "print(\"\\nTraining Data:\")\n",
    "print(\"=============\")\n",
    "train.head()"
   ]
  },
  {
   "cell_type": "code",
   "execution_count": 17,
   "id": "155d9369",
   "metadata": {},
   "outputs": [
    {
     "name": "stdout",
     "output_type": "stream",
     "text": [
      "\n",
      "Testing Data:\n",
      "=============\n"
     ]
    },
    {
     "data": {
      "text/html": [
       "<div>\n",
       "<style scoped>\n",
       "    .dataframe tbody tr th:only-of-type {\n",
       "        vertical-align: middle;\n",
       "    }\n",
       "\n",
       "    .dataframe tbody tr th {\n",
       "        vertical-align: top;\n",
       "    }\n",
       "\n",
       "    .dataframe thead th {\n",
       "        text-align: right;\n",
       "    }\n",
       "</style>\n",
       "<table border=\"1\" class=\"dataframe\">\n",
       "  <thead>\n",
       "    <tr style=\"text-align: right;\">\n",
       "      <th></th>\n",
       "      <th>id</th>\n",
       "      <th>Tweet</th>\n",
       "      <th>Sentiment</th>\n",
       "      <th>label</th>\n",
       "    </tr>\n",
       "  </thead>\n",
       "  <tbody>\n",
       "    <tr>\n",
       "      <th>42486</th>\n",
       "      <td>42482</td>\n",
       "      <td>TSX Group Subsidiary to Launch Cryptocurrency ...</td>\n",
       "      <td>neutral</td>\n",
       "      <td>0</td>\n",
       "    </tr>\n",
       "    <tr>\n",
       "      <th>26517</th>\n",
       "      <td>26513</td>\n",
       "      <td>@Pinboard I think of Jack as a trend-chaser - ...</td>\n",
       "      <td>positive</td>\n",
       "      <td>1</td>\n",
       "    </tr>\n",
       "    <tr>\n",
       "      <th>6544</th>\n",
       "      <td>6544</td>\n",
       "      <td>RT @bit_rent: I just published “While Bitcoin ...</td>\n",
       "      <td>positive</td>\n",
       "      <td>1</td>\n",
       "    </tr>\n",
       "    <tr>\n",
       "      <th>39924</th>\n",
       "      <td>39920</td>\n",
       "      <td>Monthly Web Traffic for Major Bitcoin Exchange...</td>\n",
       "      <td>negative</td>\n",
       "      <td>2</td>\n",
       "    </tr>\n",
       "    <tr>\n",
       "      <th>42309</th>\n",
       "      <td>42305</td>\n",
       "      <td>\"Bitcoin Price Technical Analysis for 03/23/20...</td>\n",
       "      <td>neutral</td>\n",
       "      <td>0</td>\n",
       "    </tr>\n",
       "  </tbody>\n",
       "</table>\n",
       "</div>"
      ],
      "text/plain": [
       "          id                                              Tweet Sentiment  \\\n",
       "42486  42482  TSX Group Subsidiary to Launch Cryptocurrency ...   neutral   \n",
       "26517  26513  @Pinboard I think of Jack as a trend-chaser - ...  positive   \n",
       "6544    6544  RT @bit_rent: I just published “While Bitcoin ...  positive   \n",
       "39924  39920  Monthly Web Traffic for Major Bitcoin Exchange...  negative   \n",
       "42309  42305  \"Bitcoin Price Technical Analysis for 03/23/20...   neutral   \n",
       "\n",
       "       label  \n",
       "42486      0  \n",
       "26517      1  \n",
       "6544       1  \n",
       "39924      2  \n",
       "42309      0  "
      ]
     },
     "execution_count": 17,
     "metadata": {},
     "output_type": "execute_result"
    }
   ],
   "source": [
    "print(\"\\nTesting Data:\")\n",
    "print(\"=============\")\n",
    "val.head()"
   ]
  },
  {
   "cell_type": "markdown",
   "id": "57e33f26",
   "metadata": {},
   "source": [
    "# Download and Initialize BERT Tokenizer"
   ]
  },
  {
   "cell_type": "code",
   "execution_count": 18,
   "id": "58a84153",
   "metadata": {},
   "outputs": [
    {
     "name": "stderr",
     "output_type": "stream",
     "text": [
      "2022-05-20 16:51:22.649019: I tensorflow/stream_executor/platform/default/dso_loader.cc:48] Successfully opened dynamic library libcudart.so.10.1\n"
     ]
    }
   ],
   "source": [
    "from transformers import BertTokenizer\n",
    "from torch.utils.data import TensorDataset\n",
    "\n",
    "tokenizer = BertTokenizer.from_pretrained(\n",
    "    'bert-base-uncased',\n",
    "    do_lower_case=True\n",
    ")"
   ]
  },
  {
   "cell_type": "code",
   "execution_count": 19,
   "id": "1cd79bcb",
   "metadata": {},
   "outputs": [],
   "source": [
    "encoded_data_train = tokenizer.batch_encode_plus(\n",
    "    train.Tweet.values,\n",
    "    add_special_tokens=True,\n",
    "    return_attention_mask=True,\n",
    "    #pad_to_max_length=True,\n",
    "    padding=True,\n",
    "    truncation=True,\n",
    "    max_length=256,\n",
    "    return_tensors='pt'\n",
    ")\n",
    "\n",
    "encoded_data_val = tokenizer.batch_encode_plus(\n",
    "    val.Tweet.values,\n",
    "    add_special_tokens=True,\n",
    "    return_attention_mask=True,\n",
    "    #pad_to_max_length=True,\n",
    "    padding=True,\n",
    "    truncation=True,\n",
    "    max_length=256,\n",
    "    return_tensors='pt'\n",
    ")"
   ]
  },
  {
   "cell_type": "code",
   "execution_count": 20,
   "id": "dbd0f387",
   "metadata": {},
   "outputs": [],
   "source": [
    "# for training data\n",
    "input_ids_train = encoded_data_train['input_ids']\n",
    "attention_masks_train = encoded_data_train['attention_mask']\n",
    "labels_train = torch.tensor(train.label.values)\n",
    "\n",
    "# for testing data\n",
    "input_ids_val = encoded_data_val['input_ids']\n",
    "attention_masks_val = encoded_data_val['attention_mask']\n",
    "labels_val = torch.tensor(val.label.values) "
   ]
  },
  {
   "cell_type": "markdown",
   "id": "21f5b472",
   "metadata": {},
   "source": [
    "## create train val data tensor"
   ]
  },
  {
   "cell_type": "code",
   "execution_count": 21,
   "id": "7ddd677d",
   "metadata": {},
   "outputs": [
    {
     "name": "stdout",
     "output_type": "stream",
     "text": [
      "43224\n",
      "7628\n"
     ]
    }
   ],
   "source": [
    "# It is created the TensorDataset adapted to Bert for the train and validation\n",
    "dataset_train = TensorDataset(\n",
    "    input_ids_train,\n",
    "    attention_masks_train,\n",
    "    labels_train\n",
    ")\n",
    "\n",
    "dataset_val = TensorDataset(input_ids_val,\n",
    "                            attention_masks_val,\n",
    "                            labels_val\n",
    ")\n",
    "\n",
    "print(len(dataset_train))\n",
    "print(len(dataset_val))"
   ]
  },
  {
   "cell_type": "markdown",
   "id": "9aabaa68",
   "metadata": {},
   "source": [
    "# Setting up BERT Pretrained Model"
   ]
  },
  {
   "cell_type": "code",
   "execution_count": 22,
   "id": "84f86b67",
   "metadata": {},
   "outputs": [
    {
     "name": "stderr",
     "output_type": "stream",
     "text": [
      "Some weights of the model checkpoint at bert-base-uncased were not used when initializing BertForSequenceClassification: ['cls.predictions.transform.LayerNorm.bias', 'cls.predictions.decoder.weight', 'cls.predictions.bias', 'cls.predictions.transform.LayerNorm.weight', 'cls.seq_relationship.weight', 'cls.seq_relationship.bias', 'cls.predictions.transform.dense.weight', 'cls.predictions.transform.dense.bias']\n",
      "- This IS expected if you are initializing BertForSequenceClassification from the checkpoint of a model trained on another task or with another architecture (e.g. initializing a BertForSequenceClassification model from a BertForPreTraining model).\n",
      "- This IS NOT expected if you are initializing BertForSequenceClassification from the checkpoint of a model that you expect to be exactly identical (initializing a BertForSequenceClassification model from a BertForSequenceClassification model).\n",
      "Some weights of BertForSequenceClassification were not initialized from the model checkpoint at bert-base-uncased and are newly initialized: ['classifier.weight', 'classifier.bias']\n",
      "You should probably TRAIN this model on a down-stream task to be able to use it for predictions and inference.\n"
     ]
    }
   ],
   "source": [
    "from transformers import BertForSequenceClassification\n",
    "\n",
    "model = BertForSequenceClassification.from_pretrained('bert-base-uncased', \n",
    "     num_labels=len(label_dict),\n",
    "     output_attentions=False,\n",
    "     output_hidden_states=False)"
   ]
  },
  {
   "cell_type": "markdown",
   "id": "180fd955",
   "metadata": {},
   "source": [
    "## Creating Data Loaders"
   ]
  },
  {
   "cell_type": "code",
   "execution_count": 23,
   "id": "ad26c4e0",
   "metadata": {},
   "outputs": [],
   "source": [
    "from torch.utils.data import DataLoader, RandomSampler, SequentialSampler\n",
    "batch_size = 64 #32\n",
    "\n",
    "dataloader_train = DataLoader(\n",
    "    dataset_train,\n",
    "    sampler=RandomSampler(dataset_train),\n",
    "    batch_size=batch_size\n",
    ")\n",
    "\n",
    "\n",
    "dataloader_val = DataLoader(\n",
    "    dataset_val,\n",
    "    sampler=SequentialSampler(dataset_val),\n",
    "    batch_size=batch_size \n",
    ")"
   ]
  },
  {
   "cell_type": "markdown",
   "id": "0cefe6d5",
   "metadata": {},
   "source": [
    "## Setting Up Optimizer and Scheduler"
   ]
  },
  {
   "cell_type": "code",
   "execution_count": 24,
   "id": "621556b9",
   "metadata": {},
   "outputs": [
    {
     "name": "stderr",
     "output_type": "stream",
     "text": [
      "/home/icrl/anaconda3/envs/abdul-tf2x/lib/python3.7/site-packages/transformers/optimization.py:309: FutureWarning: This implementation of AdamW is deprecated and will be removed in a future version. Use the PyTorch implementation torch.optim.AdamW instead, or set `no_deprecation_warning=True` to disable this warning\n",
      "  FutureWarning,\n"
     ]
    }
   ],
   "source": [
    "from transformers import AdamW, get_linear_schedule_with_warmup\n",
    "\n",
    "epochs = 10\n",
    "\n",
    "optimizer = AdamW(\n",
    "    model.parameters(),\n",
    "    lr=1e-5, #2e-5 > 5e-5\n",
    "    eps=1e-8\n",
    ")\n",
    "\n",
    "scheduler = get_linear_schedule_with_warmup(\n",
    "        optimizer,\n",
    "        num_warmup_steps=0,\n",
    "        num_training_steps=len(dataloader_train)*epochs\n",
    ")"
   ]
  },
  {
   "cell_type": "markdown",
   "id": "7eccaeb8",
   "metadata": {},
   "source": [
    "## Defining our Performance Metrics"
   ]
  },
  {
   "cell_type": "markdown",
   "id": "16f85ad8",
   "metadata": {},
   "source": [
    "Accuracy metric approach originally used in accuracy function in this tutorial."
   ]
  },
  {
   "cell_type": "code",
   "execution_count": 25,
   "id": "571cd32d",
   "metadata": {},
   "outputs": [],
   "source": [
    "import numpy as np\n",
    "from sklearn.metrics import f1_score\n",
    "\n",
    "def f1_score_func(preds, labels):\n",
    "    preds_flat = np.argmax(preds, axis =1 ).flatten()\n",
    "    labels_flat = labels.flatten()\n",
    "    return f1_score(labels_flat, preds_flat, average='weighted')\n",
    "\n",
    "\n",
    "def accuracy_per_class(preds, labels):\n",
    "    label_dict_inverse={v: k for k, v in label_dict.items()}\n",
    "    preds_flat = np.argmax(preds, axis =1 ).flatten()\n",
    "    labels_flat = labels.flatten()\n",
    "    \n",
    "    for label in np.unique(labels_flat):\n",
    "        y_pred = preds_flat[labels_flat== label]\n",
    "        y_true = labels_flat[labels_flat== label]\n",
    "        print(f'Class:{label_dict_inverse[label]}')\n",
    "        print(f'Accuracy:{len(y_pred[y_pred==label])}/{len(y_true)}\\n')"
   ]
  },
  {
   "cell_type": "markdown",
   "id": "9692c102",
   "metadata": {},
   "source": [
    "## Creating Training Loop"
   ]
  },
  {
   "cell_type": "code",
   "execution_count": 26,
   "id": "c8b85209",
   "metadata": {},
   "outputs": [
    {
     "name": "stdout",
     "output_type": "stream",
     "text": [
      "cuda\n"
     ]
    }
   ],
   "source": [
    "import random\n",
    "\n",
    "seed_val = 17\n",
    "random.seed(seed_val)\n",
    "np.random.seed(seed_val)\n",
    "torch.manual_seed(seed_val)\n",
    "torch.cuda.manual_seed_all(seed_val)\n",
    "\n",
    "device = torch.device('cuda' if torch.cuda.is_available() else 'cpu')\n",
    "model.to(device)\n",
    "print(device)"
   ]
  },
  {
   "cell_type": "code",
   "execution_count": 27,
   "id": "518273f7",
   "metadata": {},
   "outputs": [],
   "source": [
    "def evaluate(dataloader_val):\n",
    "    model.eval()\n",
    "    loss_val_total = 0\n",
    "    predictions, true_vals = [], []\n",
    "    for batch in tqdm(dataloader_val):\n",
    "        batch = tuple(b.to(device) for b in batch)\n",
    "        inputs = {'input_ids':      batch[0],\n",
    "                  'attention_mask': batch[1],\n",
    "                  'labels':         batch[2],\n",
    "                 }\n",
    "\n",
    "        with torch.no_grad():        \n",
    "            outputs = model(**inputs)\n",
    "\n",
    "        loss = outputs[0]\n",
    "        logits = outputs[1]\n",
    "        loss_val_total += loss.item()\n",
    "\n",
    "        logits = logits.detach().cpu().numpy()\n",
    "        label_ids = inputs['labels'].cpu().numpy()\n",
    "        predictions.append(logits)\n",
    "        true_vals.append(label_ids)\n",
    "\n",
    "    loss_val_avg = loss_val_total/len(dataloader_val) \n",
    "\n",
    "    predictions = np.concatenate(predictions, axis=0)\n",
    "    true_vals = np.concatenate(true_vals, axis=0)\n",
    "\n",
    "    return loss_val_avg, predictions, true_vals"
   ]
  },
  {
   "cell_type": "code",
   "execution_count": 37,
   "id": "2caef07e",
   "metadata": {},
   "outputs": [
    {
     "data": {
      "application/vnd.jupyter.widget-view+json": {
       "model_id": "684748b0a6f944a69c46c6097f433daa",
       "version_major": 2,
       "version_minor": 0
      },
      "text/plain": [
       "  0%|          | 0/10 [00:00<?, ?it/s]"
      ]
     },
     "metadata": {},
     "output_type": "display_data"
    },
    {
     "data": {
      "application/vnd.jupyter.widget-view+json": {
       "model_id": "",
       "version_major": 2,
       "version_minor": 0
      },
      "text/plain": [
       "Epoch 1:   0%|          | 0/676 [00:00<?, ?it/s]"
      ]
     },
     "metadata": {},
     "output_type": "display_data"
    },
    {
     "name": "stdout",
     "output_type": "stream",
     "text": [
      "\n",
      "Epoch 1 Results:\n",
      "Training loss:0.08642142035856501\n"
     ]
    },
    {
     "data": {
      "application/vnd.jupyter.widget-view+json": {
       "model_id": "7fe2eb14deba4ee2b840f6a411340ca8",
       "version_major": 2,
       "version_minor": 0
      },
      "text/plain": [
       "  0%|          | 0/120 [00:00<?, ?it/s]"
      ]
     },
     "metadata": {},
     "output_type": "display_data"
    },
    {
     "name": "stdout",
     "output_type": "stream",
     "text": [
      "Validation0.0857979363509609\n",
      "F1 Score (weigthed): 0.9770828370856895\n",
      "****************************\n"
     ]
    },
    {
     "data": {
      "application/vnd.jupyter.widget-view+json": {
       "model_id": "",
       "version_major": 2,
       "version_minor": 0
      },
      "text/plain": [
       "Epoch 2:   0%|          | 0/676 [00:00<?, ?it/s]"
      ]
     },
     "metadata": {},
     "output_type": "display_data"
    },
    {
     "name": "stdout",
     "output_type": "stream",
     "text": [
      "\n",
      "Epoch 2 Results:\n",
      "Training loss:0.043499045361063485\n"
     ]
    },
    {
     "data": {
      "application/vnd.jupyter.widget-view+json": {
       "model_id": "d225c1d868df437eab5aa87e7094e60a",
       "version_major": 2,
       "version_minor": 0
      },
      "text/plain": [
       "  0%|          | 0/120 [00:00<?, ?it/s]"
      ]
     },
     "metadata": {},
     "output_type": "display_data"
    },
    {
     "name": "stdout",
     "output_type": "stream",
     "text": [
      "Validation0.06726246064063161\n",
      "F1 Score (weigthed): 0.9838432116315363\n",
      "****************************\n"
     ]
    },
    {
     "data": {
      "application/vnd.jupyter.widget-view+json": {
       "model_id": "",
       "version_major": 2,
       "version_minor": 0
      },
      "text/plain": [
       "Epoch 3:   0%|          | 0/676 [00:00<?, ?it/s]"
      ]
     },
     "metadata": {},
     "output_type": "display_data"
    },
    {
     "name": "stdout",
     "output_type": "stream",
     "text": [
      "\n",
      "Epoch 3 Results:\n",
      "Training loss:0.026553207553252193\n"
     ]
    },
    {
     "data": {
      "application/vnd.jupyter.widget-view+json": {
       "model_id": "f4f58d6ab9074ad296e66c49347f0403",
       "version_major": 2,
       "version_minor": 0
      },
      "text/plain": [
       "  0%|          | 0/120 [00:00<?, ?it/s]"
      ]
     },
     "metadata": {},
     "output_type": "display_data"
    },
    {
     "name": "stdout",
     "output_type": "stream",
     "text": [
      "Validation0.07195456878980622\n",
      "F1 Score (weigthed): 0.9841510551288252\n",
      "****************************\n"
     ]
    },
    {
     "data": {
      "application/vnd.jupyter.widget-view+json": {
       "model_id": "",
       "version_major": 2,
       "version_minor": 0
      },
      "text/plain": [
       "Epoch 4:   0%|          | 0/676 [00:00<?, ?it/s]"
      ]
     },
     "metadata": {},
     "output_type": "display_data"
    },
    {
     "name": "stdout",
     "output_type": "stream",
     "text": [
      "\n",
      "Epoch 4 Results:\n",
      "Training loss:0.015070661694309455\n"
     ]
    },
    {
     "data": {
      "application/vnd.jupyter.widget-view+json": {
       "model_id": "9b8ceabafef5483094a1787554c8c720",
       "version_major": 2,
       "version_minor": 0
      },
      "text/plain": [
       "  0%|          | 0/120 [00:00<?, ?it/s]"
      ]
     },
     "metadata": {},
     "output_type": "display_data"
    },
    {
     "name": "stdout",
     "output_type": "stream",
     "text": [
      "Validation0.08619776410681274\n",
      "F1 Score (weigthed): 0.9836299559404211\n",
      "****************************\n"
     ]
    },
    {
     "data": {
      "application/vnd.jupyter.widget-view+json": {
       "model_id": "",
       "version_major": 2,
       "version_minor": 0
      },
      "text/plain": [
       "Epoch 5:   0%|          | 0/676 [00:00<?, ?it/s]"
      ]
     },
     "metadata": {},
     "output_type": "display_data"
    },
    {
     "name": "stdout",
     "output_type": "stream",
     "text": [
      "\n",
      "Epoch 5 Results:\n",
      "Training loss:0.011076207399025928\n"
     ]
    },
    {
     "data": {
      "application/vnd.jupyter.widget-view+json": {
       "model_id": "b9913e29134b47c3a0fa774f1f086768",
       "version_major": 2,
       "version_minor": 0
      },
      "text/plain": [
       "  0%|          | 0/120 [00:00<?, ?it/s]"
      ]
     },
     "metadata": {},
     "output_type": "display_data"
    },
    {
     "name": "stdout",
     "output_type": "stream",
     "text": [
      "Validation0.08477503157967779\n",
      "F1 Score (weigthed): 0.9845293109808047\n",
      "****************************\n"
     ]
    },
    {
     "data": {
      "application/vnd.jupyter.widget-view+json": {
       "model_id": "",
       "version_major": 2,
       "version_minor": 0
      },
      "text/plain": [
       "Epoch 6:   0%|          | 0/676 [00:00<?, ?it/s]"
      ]
     },
     "metadata": {},
     "output_type": "display_data"
    },
    {
     "name": "stdout",
     "output_type": "stream",
     "text": [
      "\n",
      "Epoch 6 Results:\n",
      "Training loss:0.0072196017390955035\n"
     ]
    },
    {
     "data": {
      "application/vnd.jupyter.widget-view+json": {
       "model_id": "b50a3c5c68cd448fb8f19fe3e2cf1336",
       "version_major": 2,
       "version_minor": 0
      },
      "text/plain": [
       "  0%|          | 0/120 [00:00<?, ?it/s]"
      ]
     },
     "metadata": {},
     "output_type": "display_data"
    },
    {
     "name": "stdout",
     "output_type": "stream",
     "text": [
      "Validation0.08151692313452562\n",
      "F1 Score (weigthed): 0.986478081037656\n",
      "****************************\n"
     ]
    },
    {
     "data": {
      "application/vnd.jupyter.widget-view+json": {
       "model_id": "",
       "version_major": 2,
       "version_minor": 0
      },
      "text/plain": [
       "Epoch 7:   0%|          | 0/676 [00:00<?, ?it/s]"
      ]
     },
     "metadata": {},
     "output_type": "display_data"
    },
    {
     "name": "stdout",
     "output_type": "stream",
     "text": [
      "\n",
      "Epoch 7 Results:\n",
      "Training loss:0.0045453176041556995\n"
     ]
    },
    {
     "data": {
      "application/vnd.jupyter.widget-view+json": {
       "model_id": "a574a51ff2894705b832b9fd72dca305",
       "version_major": 2,
       "version_minor": 0
      },
      "text/plain": [
       "  0%|          | 0/120 [00:00<?, ?it/s]"
      ]
     },
     "metadata": {},
     "output_type": "display_data"
    },
    {
     "name": "stdout",
     "output_type": "stream",
     "text": [
      "Validation0.08424520220026656\n",
      "F1 Score (weigthed): 0.9855643960670716\n",
      "****************************\n"
     ]
    },
    {
     "data": {
      "application/vnd.jupyter.widget-view+json": {
       "model_id": "",
       "version_major": 2,
       "version_minor": 0
      },
      "text/plain": [
       "Epoch 8:   0%|          | 0/676 [00:00<?, ?it/s]"
      ]
     },
     "metadata": {},
     "output_type": "display_data"
    },
    {
     "name": "stdout",
     "output_type": "stream",
     "text": [
      "\n",
      "Epoch 8 Results:\n",
      "Training loss:0.004113345402934828\n"
     ]
    },
    {
     "data": {
      "application/vnd.jupyter.widget-view+json": {
       "model_id": "6488918dd5b54155bf85c0ceb41835b1",
       "version_major": 2,
       "version_minor": 0
      },
      "text/plain": [
       "  0%|          | 0/120 [00:00<?, ?it/s]"
      ]
     },
     "metadata": {},
     "output_type": "display_data"
    },
    {
     "name": "stdout",
     "output_type": "stream",
     "text": [
      "Validation0.09077505882335875\n",
      "F1 Score (weigthed): 0.9862139203745884\n",
      "****************************\n"
     ]
    },
    {
     "data": {
      "application/vnd.jupyter.widget-view+json": {
       "model_id": "",
       "version_major": 2,
       "version_minor": 0
      },
      "text/plain": [
       "Epoch 9:   0%|          | 0/676 [00:00<?, ?it/s]"
      ]
     },
     "metadata": {},
     "output_type": "display_data"
    },
    {
     "name": "stdout",
     "output_type": "stream",
     "text": [
      "\n",
      "Epoch 9 Results:\n",
      "Training loss:0.0023257000827293026\n"
     ]
    },
    {
     "data": {
      "application/vnd.jupyter.widget-view+json": {
       "model_id": "068b05765c5248b983fa550860f455d1",
       "version_major": 2,
       "version_minor": 0
      },
      "text/plain": [
       "  0%|          | 0/120 [00:00<?, ?it/s]"
      ]
     },
     "metadata": {},
     "output_type": "display_data"
    },
    {
     "name": "stdout",
     "output_type": "stream",
     "text": [
      "Validation0.09566320849074449\n",
      "F1 Score (weigthed): 0.9850374306925874\n",
      "****************************\n"
     ]
    },
    {
     "data": {
      "application/vnd.jupyter.widget-view+json": {
       "model_id": "",
       "version_major": 2,
       "version_minor": 0
      },
      "text/plain": [
       "Epoch 10:   0%|          | 0/676 [00:00<?, ?it/s]"
      ]
     },
     "metadata": {},
     "output_type": "display_data"
    },
    {
     "name": "stdout",
     "output_type": "stream",
     "text": [
      "\n",
      "Epoch 10 Results:\n",
      "Training loss:0.0012434988643986293\n"
     ]
    },
    {
     "data": {
      "application/vnd.jupyter.widget-view+json": {
       "model_id": "4849ddf8ebec4ab39c02bf9a5940d402",
       "version_major": 2,
       "version_minor": 0
      },
      "text/plain": [
       "  0%|          | 0/120 [00:00<?, ?it/s]"
      ]
     },
     "metadata": {},
     "output_type": "display_data"
    },
    {
     "name": "stdout",
     "output_type": "stream",
     "text": [
      "Validation0.09439605041425239\n",
      "F1 Score (weigthed): 0.9847805761270005\n",
      "****************************\n"
     ]
    },
    {
     "ename": "FileNotFoundError",
     "evalue": "[Errno 2] No such file or directory: 'Models/BERT_ft_epoch10.model'",
     "output_type": "error",
     "traceback": [
      "\u001b[0;31m---------------------------------------------------------------------------\u001b[0m",
      "\u001b[0;31mFileNotFoundError\u001b[0m                         Traceback (most recent call last)",
      "\u001b[0;32m/tmp/ipykernel_3483/3838039013.py\u001b[0m in \u001b[0;36m<module>\u001b[0;34m\u001b[0m\n\u001b[1;32m     39\u001b[0m     \u001b[0mtqdm\u001b[0m\u001b[0;34m.\u001b[0m\u001b[0mwrite\u001b[0m\u001b[0;34m(\u001b[0m\u001b[0;34mf'F1 Score (weigthed): {val_f1}'\u001b[0m\u001b[0;34m)\u001b[0m\u001b[0;34m\u001b[0m\u001b[0;34m\u001b[0m\u001b[0m\n\u001b[1;32m     40\u001b[0m     \u001b[0mprint\u001b[0m\u001b[0;34m(\u001b[0m\u001b[0;34m\"****************************\"\u001b[0m\u001b[0;34m)\u001b[0m\u001b[0;34m\u001b[0m\u001b[0;34m\u001b[0m\u001b[0m\n\u001b[0;32m---> 41\u001b[0;31m \u001b[0mtorch\u001b[0m\u001b[0;34m.\u001b[0m\u001b[0msave\u001b[0m\u001b[0;34m(\u001b[0m\u001b[0mmodel\u001b[0m\u001b[0;34m.\u001b[0m\u001b[0mstate_dict\u001b[0m\u001b[0;34m(\u001b[0m\u001b[0;34m)\u001b[0m\u001b[0;34m,\u001b[0m\u001b[0;34mf'Models/BERT_ft_epoch{epoch}.model'\u001b[0m\u001b[0;34m)\u001b[0m\u001b[0;34m\u001b[0m\u001b[0;34m\u001b[0m\u001b[0m\n\u001b[0m",
      "\u001b[0;32m~/anaconda3/envs/abdul-tf2x/lib/python3.7/site-packages/torch/serialization.py\u001b[0m in \u001b[0;36msave\u001b[0;34m(obj, f, pickle_module, pickle_protocol, _use_new_zipfile_serialization)\u001b[0m\n\u001b[1;32m    367\u001b[0m     \u001b[0m_check_dill_version\u001b[0m\u001b[0;34m(\u001b[0m\u001b[0mpickle_module\u001b[0m\u001b[0;34m)\u001b[0m\u001b[0;34m\u001b[0m\u001b[0;34m\u001b[0m\u001b[0m\n\u001b[1;32m    368\u001b[0m \u001b[0;34m\u001b[0m\u001b[0m\n\u001b[0;32m--> 369\u001b[0;31m     \u001b[0;32mwith\u001b[0m \u001b[0m_open_file_like\u001b[0m\u001b[0;34m(\u001b[0m\u001b[0mf\u001b[0m\u001b[0;34m,\u001b[0m \u001b[0;34m'wb'\u001b[0m\u001b[0;34m)\u001b[0m \u001b[0;32mas\u001b[0m \u001b[0mopened_file\u001b[0m\u001b[0;34m:\u001b[0m\u001b[0;34m\u001b[0m\u001b[0;34m\u001b[0m\u001b[0m\n\u001b[0m\u001b[1;32m    370\u001b[0m         \u001b[0;32mif\u001b[0m \u001b[0m_use_new_zipfile_serialization\u001b[0m\u001b[0;34m:\u001b[0m\u001b[0;34m\u001b[0m\u001b[0;34m\u001b[0m\u001b[0m\n\u001b[1;32m    371\u001b[0m             \u001b[0;32mwith\u001b[0m \u001b[0m_open_zipfile_writer\u001b[0m\u001b[0;34m(\u001b[0m\u001b[0mopened_file\u001b[0m\u001b[0;34m)\u001b[0m \u001b[0;32mas\u001b[0m \u001b[0mopened_zipfile\u001b[0m\u001b[0;34m:\u001b[0m\u001b[0;34m\u001b[0m\u001b[0;34m\u001b[0m\u001b[0m\n",
      "\u001b[0;32m~/anaconda3/envs/abdul-tf2x/lib/python3.7/site-packages/torch/serialization.py\u001b[0m in \u001b[0;36m_open_file_like\u001b[0;34m(name_or_buffer, mode)\u001b[0m\n\u001b[1;32m    228\u001b[0m \u001b[0;32mdef\u001b[0m \u001b[0m_open_file_like\u001b[0m\u001b[0;34m(\u001b[0m\u001b[0mname_or_buffer\u001b[0m\u001b[0;34m,\u001b[0m \u001b[0mmode\u001b[0m\u001b[0;34m)\u001b[0m\u001b[0;34m:\u001b[0m\u001b[0;34m\u001b[0m\u001b[0;34m\u001b[0m\u001b[0m\n\u001b[1;32m    229\u001b[0m     \u001b[0;32mif\u001b[0m \u001b[0m_is_path\u001b[0m\u001b[0;34m(\u001b[0m\u001b[0mname_or_buffer\u001b[0m\u001b[0;34m)\u001b[0m\u001b[0;34m:\u001b[0m\u001b[0;34m\u001b[0m\u001b[0;34m\u001b[0m\u001b[0m\n\u001b[0;32m--> 230\u001b[0;31m         \u001b[0;32mreturn\u001b[0m \u001b[0m_open_file\u001b[0m\u001b[0;34m(\u001b[0m\u001b[0mname_or_buffer\u001b[0m\u001b[0;34m,\u001b[0m \u001b[0mmode\u001b[0m\u001b[0;34m)\u001b[0m\u001b[0;34m\u001b[0m\u001b[0;34m\u001b[0m\u001b[0m\n\u001b[0m\u001b[1;32m    231\u001b[0m     \u001b[0;32melse\u001b[0m\u001b[0;34m:\u001b[0m\u001b[0;34m\u001b[0m\u001b[0;34m\u001b[0m\u001b[0m\n\u001b[1;32m    232\u001b[0m         \u001b[0;32mif\u001b[0m \u001b[0;34m'w'\u001b[0m \u001b[0;32min\u001b[0m \u001b[0mmode\u001b[0m\u001b[0;34m:\u001b[0m\u001b[0;34m\u001b[0m\u001b[0;34m\u001b[0m\u001b[0m\n",
      "\u001b[0;32m~/anaconda3/envs/abdul-tf2x/lib/python3.7/site-packages/torch/serialization.py\u001b[0m in \u001b[0;36m__init__\u001b[0;34m(self, name, mode)\u001b[0m\n\u001b[1;32m    209\u001b[0m \u001b[0;32mclass\u001b[0m \u001b[0m_open_file\u001b[0m\u001b[0;34m(\u001b[0m\u001b[0m_opener\u001b[0m\u001b[0;34m)\u001b[0m\u001b[0;34m:\u001b[0m\u001b[0;34m\u001b[0m\u001b[0;34m\u001b[0m\u001b[0m\n\u001b[1;32m    210\u001b[0m     \u001b[0;32mdef\u001b[0m \u001b[0m__init__\u001b[0m\u001b[0;34m(\u001b[0m\u001b[0mself\u001b[0m\u001b[0;34m,\u001b[0m \u001b[0mname\u001b[0m\u001b[0;34m,\u001b[0m \u001b[0mmode\u001b[0m\u001b[0;34m)\u001b[0m\u001b[0;34m:\u001b[0m\u001b[0;34m\u001b[0m\u001b[0;34m\u001b[0m\u001b[0m\n\u001b[0;32m--> 211\u001b[0;31m         \u001b[0msuper\u001b[0m\u001b[0;34m(\u001b[0m\u001b[0m_open_file\u001b[0m\u001b[0;34m,\u001b[0m \u001b[0mself\u001b[0m\u001b[0;34m)\u001b[0m\u001b[0;34m.\u001b[0m\u001b[0m__init__\u001b[0m\u001b[0;34m(\u001b[0m\u001b[0mopen\u001b[0m\u001b[0;34m(\u001b[0m\u001b[0mname\u001b[0m\u001b[0;34m,\u001b[0m \u001b[0mmode\u001b[0m\u001b[0;34m)\u001b[0m\u001b[0;34m)\u001b[0m\u001b[0;34m\u001b[0m\u001b[0;34m\u001b[0m\u001b[0m\n\u001b[0m\u001b[1;32m    212\u001b[0m \u001b[0;34m\u001b[0m\u001b[0m\n\u001b[1;32m    213\u001b[0m     \u001b[0;32mdef\u001b[0m \u001b[0m__exit__\u001b[0m\u001b[0;34m(\u001b[0m\u001b[0mself\u001b[0m\u001b[0;34m,\u001b[0m \u001b[0;34m*\u001b[0m\u001b[0margs\u001b[0m\u001b[0;34m)\u001b[0m\u001b[0;34m:\u001b[0m\u001b[0;34m\u001b[0m\u001b[0;34m\u001b[0m\u001b[0m\n",
      "\u001b[0;31mFileNotFoundError\u001b[0m: [Errno 2] No such file or directory: 'Models/BERT_ft_epoch10.model'"
     ]
    }
   ],
   "source": [
    "for epoch in tqdm(range(1, epochs+1)):\n",
    "    \n",
    "    model.train()\n",
    "    \n",
    "    loss_train_total = 0\n",
    "    \n",
    "    progress_bar = tqdm(dataloader_train, \n",
    "                        desc='Epoch {:1d}'.format(epoch),\n",
    "                        leave=False,\n",
    "                        disable=False)\n",
    "    for batch in progress_bar:\n",
    "        model.zero_grad()\n",
    "        batch = tuple(b.to(device) for b in batch)\n",
    "        inputs ={\n",
    "            'input_ids'    :batch[0],\n",
    "            'attention_mask':batch[1],\n",
    "            'labels'        :batch[2]\n",
    "        }\n",
    "        outputs = model(**inputs)\n",
    "        loss = outputs[0]\n",
    "        loss_train_total += loss.item()                     \n",
    "        loss.backward()\n",
    "    \n",
    "        torch.nn.utils.clip_grad_norm_(model.parameters(), 1.0)\n",
    "        optimizer.step()\n",
    "        scheduler.step()\n",
    "        progress_bar.set_postfix(\n",
    "            {'training_loss': '{:.3f}'.format(loss.item()/len(batch))})\n",
    "        \n",
    "    #torch.save(model.state_dict(),f'Models/BERT_ft_epoch{epoch}.model')\n",
    "    tqdm.write(f'\\nEpoch {epoch} Results:')\n",
    "    \n",
    "    loss_train_avg= loss_train_total/len(dataloader_train)\n",
    "    tqdm.write(f'Training loss:{loss_train_avg}')\n",
    "    \n",
    "    val_loss, predictions, true_vals = evaluate(dataloader_val)\n",
    "    val_f1= f1_score_func(predictions,true_vals)\n",
    "    tqdm.write(f'Validation loss  {val_loss}')\n",
    "    tqdm.write(f'F1 Score (weigthed): {val_f1}')\n",
    "    print(\"****************************\")\n",
    "torch.save(model.state_dict(),f'Models/BERT_ft_epoch{epoch}.model') "
   ]
  },
  {
   "cell_type": "markdown",
   "id": "7a1fc803",
   "metadata": {},
   "source": [
    "# Model Validation\n",
    "## load base model"
   ]
  },
  {
   "cell_type": "code",
   "execution_count": 28,
   "id": "a01ef88f",
   "metadata": {},
   "outputs": [
    {
     "name": "stderr",
     "output_type": "stream",
     "text": [
      "Some weights of the model checkpoint at bert-base-uncased were not used when initializing BertForSequenceClassification: ['cls.predictions.transform.LayerNorm.bias', 'cls.predictions.decoder.weight', 'cls.predictions.bias', 'cls.predictions.transform.LayerNorm.weight', 'cls.seq_relationship.weight', 'cls.seq_relationship.bias', 'cls.predictions.transform.dense.weight', 'cls.predictions.transform.dense.bias']\n",
      "- This IS expected if you are initializing BertForSequenceClassification from the checkpoint of a model trained on another task or with another architecture (e.g. initializing a BertForSequenceClassification model from a BertForPreTraining model).\n",
      "- This IS NOT expected if you are initializing BertForSequenceClassification from the checkpoint of a model that you expect to be exactly identical (initializing a BertForSequenceClassification model from a BertForSequenceClassification model).\n",
      "Some weights of BertForSequenceClassification were not initialized from the model checkpoint at bert-base-uncased and are newly initialized: ['classifier.weight', 'classifier.bias']\n",
      "You should probably TRAIN this model on a down-stream task to be able to use it for predictions and inference.\n"
     ]
    }
   ],
   "source": [
    "model = BertForSequenceClassification.from_pretrained(\n",
    "    \"bert-base-uncased\",\n",
    "    num_labels=len(label_dict),\n",
    "    output_attentions=False,\n",
    "    output_hidden_states=False)"
   ]
  },
  {
   "cell_type": "markdown",
   "id": "8e417870",
   "metadata": {},
   "source": [
    "## load trained weights"
   ]
  },
  {
   "cell_type": "code",
   "execution_count": 29,
   "id": "d70212f0",
   "metadata": {},
   "outputs": [
    {
     "data": {
      "text/plain": [
       "<All keys matched successfully>"
      ]
     },
     "execution_count": 29,
     "metadata": {},
     "output_type": "execute_result"
    }
   ],
   "source": [
    "PATH='./Models/BERT_ft_epoch10.model'\n",
    "model.load_state_dict(torch.load(PATH, \n",
    "                                 map_location=torch.device('cuda:0')))"
   ]
  },
  {
   "cell_type": "markdown",
   "id": "84cd7a2f",
   "metadata": {},
   "source": [
    "## FUNCTION FOR SHOW ACCURACY,CLASSIFICATION REPORT, CONFUSION Matrix"
   ]
  },
  {
   "cell_type": "code",
   "execution_count": 30,
   "id": "e3ed063e",
   "metadata": {},
   "outputs": [],
   "source": [
    "import seaborn as sns\n",
    "import matplotlib.pyplot as plt\n",
    "from sklearn.metrics import confusion_matrix,classification_report, accuracy_score,precision_score, recall_score, f1_score\n",
    "# function for evaluation metrics precision, recall, f1 etc\n",
    "def modelEvaluation(predictions, y_test_set, model_name, classes):\n",
    "    # Print model evaluation to predicted result    \n",
    "    print(\"==========\",model_name,\"==========\")\n",
    "    print (\"\\nAccuracy on validation set: {:.4f}\".format(accuracy_score(y_test_set, predictions)))    \n",
    "    print (\"\\nClassification report : \\n\", classification_report(y_test_set, predictions, target_names = classes))\n",
    "    print (\"\\nConfusion Matrix : \\n\", confusion_matrix(y_test_set,predictions))\n",
    "    sns.heatmap(confusion_matrix(y_test_set, predictions),annot=True,yticklabels=classes, xticklabels=classes, fmt='g',cmap='jet')\n",
    "   \n",
    "    plt.tight_layout()\n",
    "    plt.show()\n",
    "    results = [accuracy_score(y_test_set, predictions), precision_score(y_test_set, predictions,average='macro'),\n",
    "              recall_score(y_test_set, predictions,average='macro'),f1_score(y_test_set, predictions,average='macro')]#store results of model\n",
    "    return results"
   ]
  },
  {
   "cell_type": "markdown",
   "id": "5f368b7d",
   "metadata": {},
   "source": [
    "# Results\n",
    "## BERT Results"
   ]
  },
  {
   "cell_type": "code",
   "execution_count": 31,
   "id": "bc732fb5",
   "metadata": {},
   "outputs": [],
   "source": [
    "device = torch.device('cuda')\n",
    "pass"
   ]
  },
  {
   "cell_type": "code",
   "execution_count": 32,
   "id": "4f6ca91b",
   "metadata": {},
   "outputs": [],
   "source": [
    "model.to(device)\n",
    "pass"
   ]
  },
  {
   "cell_type": "code",
   "execution_count": 45,
   "id": "e85baa03",
   "metadata": {},
   "outputs": [
    {
     "data": {
      "application/vnd.jupyter.widget-view+json": {
       "model_id": "68ff5b35be2c497d8df50cc422210aef",
       "version_major": 2,
       "version_minor": 0
      },
      "text/plain": [
       "  0%|          | 0/676 [00:00<?, ?it/s]"
      ]
     },
     "metadata": {},
     "output_type": "display_data"
    },
    {
     "data": {
      "application/vnd.jupyter.widget-view+json": {
       "model_id": "489719c8743745dd86789aee642eefd2",
       "version_major": 2,
       "version_minor": 0
      },
      "text/plain": [
       "  0%|          | 0/120 [00:00<?, ?it/s]"
      ]
     },
     "metadata": {},
     "output_type": "display_data"
    }
   ],
   "source": [
    "_, train_predictions, train_true_vals = evaluate(dataloader_train)\n",
    "_, val_predictions, val_true_vals = evaluate(dataloader_val)"
   ]
  },
  {
   "cell_type": "code",
   "execution_count": 46,
   "id": "4e6f188c",
   "metadata": {},
   "outputs": [],
   "source": [
    "train_preds_BERT=[]\n",
    "val_preds_BERT=[]\n",
    "\n",
    "for i in train_predictions:\n",
    "    train_preds_BERT.append(np.argmax(i))\n",
    "for i in predictions:\n",
    "    val_preds_BERT.append(np.argmax(i))"
   ]
  },
  {
   "cell_type": "code",
   "execution_count": 47,
   "id": "0279ed23",
   "metadata": {},
   "outputs": [],
   "source": [
    "collect_results_of_all_model= {\n",
    "    'Metrics':['accuracy','precision','recall','f1-score']\n",
    "}#dic form store results of all models"
   ]
  },
  {
   "cell_type": "code",
   "execution_count": 48,
   "id": "5d03ca2d",
   "metadata": {},
   "outputs": [],
   "source": [
    "classes=['0','1','2']"
   ]
  },
  {
   "cell_type": "code",
   "execution_count": 49,
   "id": "cfb6fb74",
   "metadata": {},
   "outputs": [
    {
     "name": "stdout",
     "output_type": "stream",
     "text": [
      "========== BERT ==========\n",
      "\n",
      "Accuracy on validation set: 0.9848\n",
      "\n",
      "Classification report : \n",
      "               precision    recall  f1-score   support\n",
      "\n",
      "           0       0.99      0.98      0.99      3290\n",
      "           1       0.98      0.99      0.99      3441\n",
      "           2       0.97      0.96      0.96       897\n",
      "\n",
      "    accuracy                           0.98      7628\n",
      "   macro avg       0.98      0.98      0.98      7628\n",
      "weighted avg       0.98      0.98      0.98      7628\n",
      "\n",
      "\n",
      "Confusion Matrix : \n",
      " [[3240   35   15]\n",
      " [  16 3411   14]\n",
      " [  19   17  861]]\n"
     ]
    },
    {
     "data": {
      "image/png": "[encoded data removed]",
      "text/plain": [
       "<Figure size 432x288 with 2 Axes>"
      ]
     },
     "metadata": {
      "needs_background": "light"
     },
     "output_type": "display_data"
    }
   ],
   "source": [
    "BERT_MODEL=modelEvaluation(val_preds_BERT, true_vals, 'BERT', classes)\n",
    "collect_results_of_all_model[\"BERT\"] = BERT_MODEL"
   ]
  },
  {
   "cell_type": "code",
   "execution_count": 55,
   "id": "603db2a5",
   "metadata": {},
   "outputs": [],
   "source": [
    "df1 = df1[df1['Sentiment'] != '0.0']\n",
    "df1 = df1[df1.Sentiment.notnull()]"
   ]
  },
  {
   "cell_type": "code",
   "execution_count": 54,
   "id": "e31f1c64",
   "metadata": {},
   "outputs": [],
   "source": [
    "final_pred = train_preds_BERT+val_preds_BERT\n",
    "df1['BERT Labels'] = final_pred\n",
    "df1.to_csv(\"BTC_Tweets_Updated.csv\", index=False)"
   ]
  },
  {
   "cell_type": "markdown",
   "id": "189de270",
   "metadata": {},
   "source": [
    "## Precition on Single Sample"
   ]
  },
  {
   "cell_type": "code",
   "execution_count": 83,
   "id": "0bb03fb4",
   "metadata": {},
   "outputs": [],
   "source": [
    "Tweet = \"RT @ALXTOKEN: Paul Krugman, Nobel Luddite. I had to tweak the nose of this Bitcoin enemy. He says such foolish things. Here's the link: httâ€¦\"\n",
    "\n",
    "encoded_tweet = tokenizer.batch_encode_plus(\n",
    "    Tweet,\n",
    "    add_special_tokens=True,\n",
    "    return_attention_mask=True,\n",
    "    #pad_to_max_length=True,\n",
    "    padding=True,\n",
    "    truncation=True,\n",
    "    max_length=256,\n",
    "    return_tensors='pt'\n",
    ")\n",
    "\n",
    "input_ids_train = encoded_tweet['input_ids']\n",
    "attention_masks_train = encoded_tweet['attention_mask']\n",
    "\n",
    "dataset_sample = TensorDataset(\n",
    "    input_ids_train,\n",
    "    attention_masks_train,\n",
    ")\n",
    "\n",
    "dataloader_sample = DataLoader(\n",
    "    dataset_sample,\n",
    "    sampler=SequentialSampler(dataloader_sample),\n",
    ")\n"
   ]
  },
  {
   "cell_type": "code",
   "execution_count": 84,
   "id": "29f12b4b",
   "metadata": {},
   "outputs": [
    {
     "data": {
      "application/vnd.jupyter.widget-view+json": {
       "model_id": "da431e7f6ccd41b280467d93dd81e95c",
       "version_major": 2,
       "version_minor": 0
      },
      "text/plain": [
       "  0%|          | 0/1 [00:00<?, ?it/s]"
      ]
     },
     "metadata": {},
     "output_type": "display_data"
    },
    {
     "name": "stdout",
     "output_type": "stream",
     "text": [
      "neutral\n"
     ]
    }
   ],
   "source": [
    "model.eval()\n",
    "loss_val_total = 0\n",
    "predictions, true_vals = [], []\n",
    "for batch in tqdm(dataloader_sample):\n",
    "    batch = tuple(b.to(device) for b in batch)\n",
    "    inputs = {'input_ids':      batch[0],\n",
    "              'attention_mask': batch[1]\n",
    "             }\n",
    "\n",
    "    with torch.no_grad():        \n",
    "        outputs = model(**inputs)\n",
    "    \n",
    "    out = outputs[0]\n",
    "    out = out.cpu().data.numpy().argmax()\n",
    "    label = list(label_dict.keys())[out]\n",
    "    print(label)\n",
    "#     loss = outputs[0]\n",
    "#     logits = outputs[1]\n",
    "\n",
    "#     logits = logits.detach().cpu().numpy()\n",
    "\n",
    "#     print(logits)"
   ]
  },
  {
   "cell_type": "markdown",
   "id": "e661dac9",
   "metadata": {},
   "source": [
    "# Preprocesing for ML Models"
   ]
  },
  {
   "cell_type": "code",
   "execution_count": 168,
   "id": "0994a085",
   "metadata": {},
   "outputs": [
    {
     "name": "stderr",
     "output_type": "stream",
     "text": [
      "[nltk_data] Downloading package stopwords to /home/icrl/nltk_data...\n",
      "[nltk_data]   Package stopwords is already up-to-date!\n",
      "[nltk_data] Downloading package wordnet to /home/icrl/nltk_data...\n",
      "[nltk_data]   Package wordnet is already up-to-date!\n",
      "[nltk_data] Downloading package omw-1.4 to /home/icrl/nltk_data...\n",
      "[nltk_data]   Package omw-1.4 is already up-to-date!\n"
     ]
    },
    {
     "data": {
      "text/plain": [
       "True"
      ]
     },
     "execution_count": 168,
     "metadata": {},
     "output_type": "execute_result"
    }
   ],
   "source": [
    "from sklearn.model_selection import train_test_split\n",
    "from sklearn.feature_extraction.text import CountVectorizer\n",
    "from sklearn.preprocessing import LabelEncoder\n",
    "import nltk\n",
    "import string\n",
    "import string\n",
    "from nltk.corpus import stopwords\n",
    "from nltk.stem import WordNetLemmatizer\n",
    "nltk.download('stopwords')\n",
    "nltk.download('wordnet')\n",
    "nltk.download('omw-1.4')\n"
   ]
  },
  {
   "cell_type": "code",
   "execution_count": 169,
   "id": "b63d359b",
   "metadata": {},
   "outputs": [
    {
     "name": "stderr",
     "output_type": "stream",
     "text": [
      "/home/icrl/anaconda3/envs/abdul-tf2x/lib/python3.7/site-packages/ipykernel_launcher.py:4: FutureWarning: The default value of regex will change from True to False in a future version.\n",
      "  after removing the cwd from sys.path.\n",
      "/home/icrl/anaconda3/envs/abdul-tf2x/lib/python3.7/site-packages/ipykernel_launcher.py:6: FutureWarning: The default value of regex will change from True to False in a future version.\n",
      "  \n"
     ]
    }
   ],
   "source": [
    "dftaxes = df\n",
    "dftaxes['Text_Data'] = dftaxes['Tweet'].apply(\n",
    "    lambda x: \" \".join(x.lower() for x in x.split()))  # lower case conversion\n",
    "dftaxes['Text_Data'] = dftaxes['Text_Data'].str.replace('[^\\w\\s]', '')  # getting rid of special characters\n",
    "dftaxes['Text_Data'] = dftaxes['Text_Data'].str.replace('\\d+',\n",
    "                                                        '')  # removing numeric values from between the words\n",
    "dftaxes['Text_Data'] = dftaxes['Text_Data'].apply(\n",
    "    lambda x: x.translate(string.digits))  # removing numerical numbers\n",
    "stop = stopwords.words('english')\n",
    "dftaxes['Text_Data'] = dftaxes['Text_Data'].apply(\n",
    "    lambda x: \" \".join(x for x in x.split() if x not in stop))  # removing stop words\n",
    "stemmer = WordNetLemmatizer()\n",
    "dftaxes['Text_Data'] = [stemmer.lemmatize(word) for word in\n",
    "                        dftaxes['Text_Data']]  # converting words to their dictionary form\n",
    "dftaxes['Text_Data'] = dftaxes['Text_Data'].str.replace('shall', '')\n"
   ]
  },
  {
   "cell_type": "code",
   "execution_count": 170,
   "id": "297fe053",
   "metadata": {},
   "outputs": [],
   "source": [
    "cv=CountVectorizer(ngram_range=(1,2))\n",
    "X_cv=cv.fit_transform(df['Text_Data'])\n",
    "X=X_cv\n",
    "y=df['label']"
   ]
  },
  {
   "cell_type": "code",
   "execution_count": 171,
   "id": "755efe7a",
   "metadata": {},
   "outputs": [],
   "source": [
    "X_train,X_test,y_train,y_test=train_test_split(X,y,test_size=0.3,random_state=123)"
   ]
  },
  {
   "cell_type": "markdown",
   "id": "af82fb27",
   "metadata": {},
   "source": []
  },
  {
   "cell_type": "markdown",
   "id": "ce1d8ac9",
   "metadata": {},
   "source": [
    "# Machine Learning Models\n",
    "## SVC Model"
   ]
  },
  {
   "cell_type": "code",
   "execution_count": 194,
   "id": "48b9d74f",
   "metadata": {
    "scrolled": true
   },
   "outputs": [
    {
     "name": "stderr",
     "output_type": "stream",
     "text": [
      "/home/icrl/anaconda3/envs/abdul-tf2x/lib/python3.7/site-packages/sklearn/svm/_base.py:289: ConvergenceWarning: Solver terminated early (max_iter=200).  Consider pre-processing your data with StandardScaler or MinMaxScaler.\n",
      "  ConvergenceWarning,\n"
     ]
    },
    {
     "data": {
      "text/plain": [
       "SVC(max_iter=200)"
      ]
     },
     "execution_count": 194,
     "metadata": {},
     "output_type": "execute_result"
    }
   ],
   "source": [
    "from sklearn.svm import SVC\n",
    "SVC_classifier= SVC(max_iter=200)\n",
    "SVC_classifier.fit(X_train,y_train)"
   ]
  },
  {
   "cell_type": "code",
   "execution_count": 195,
   "id": "791f8999",
   "metadata": {},
   "outputs": [],
   "source": [
    "preds=SVC_classifier.predict(X_test)"
   ]
  },
  {
   "cell_type": "markdown",
   "id": "4be77787",
   "metadata": {},
   "source": [
    "## SVC Results"
   ]
  },
  {
   "cell_type": "code",
   "execution_count": 196,
   "id": "32a702cf",
   "metadata": {},
   "outputs": [
    {
     "name": "stdout",
     "output_type": "stream",
     "text": [
      "========== SVC ==========\n",
      "\n",
      "Accuracy on validation set: 0.6380\n",
      "\n",
      "Classification report : \n",
      "               precision    recall  f1-score   support\n",
      "\n",
      "           0       0.62      0.70      0.66      6623\n",
      "           1       0.77      0.60      0.68      6857\n",
      "           2       0.39      0.54      0.45      1776\n",
      "\n",
      "    accuracy                           0.64     15256\n",
      "   macro avg       0.60      0.62      0.60     15256\n",
      "weighted avg       0.66      0.64      0.64     15256\n",
      "\n",
      "\n",
      "Confusion Matrix : \n",
      " [[4645 1039  939]\n",
      " [2166 4121  570]\n",
      " [ 624  185  967]]\n"
     ]
    },
    {
     "data": {
      "image/png": "[encoded data removed]",
      "text/plain": [
       "<Figure size 432x288 with 2 Axes>"
      ]
     },
     "metadata": {
      "needs_background": "light"
     },
     "output_type": "display_data"
    }
   ],
   "source": [
    "SVC_res=modelEvaluation(preds, y_test, 'SVC', classes)"
   ]
  },
  {
   "cell_type": "code",
   "execution_count": 197,
   "id": "c72d985e",
   "metadata": {},
   "outputs": [],
   "source": [
    "collect_results_of_all_model[\"SVC\"] = SVC_res"
   ]
  },
  {
   "cell_type": "markdown",
   "id": "96fb3680",
   "metadata": {},
   "source": [
    "## Random Forest"
   ]
  },
  {
   "cell_type": "code",
   "execution_count": 176,
   "id": "6f8c7997",
   "metadata": {},
   "outputs": [],
   "source": [
    "from sklearn.ensemble import RandomForestClassifier\n",
    "RF=RandomForestClassifier()\n",
    "RF_model=RF.fit(X_train,y_train)"
   ]
  },
  {
   "cell_type": "code",
   "execution_count": 177,
   "id": "0b4a65da",
   "metadata": {},
   "outputs": [],
   "source": [
    "preds_RF=RF.predict(X_test)"
   ]
  },
  {
   "cell_type": "markdown",
   "id": "f30ec5e2",
   "metadata": {},
   "source": [
    "## Random Forest Results"
   ]
  },
  {
   "cell_type": "code",
   "execution_count": 178,
   "id": "abc3cb45",
   "metadata": {},
   "outputs": [
    {
     "name": "stdout",
     "output_type": "stream",
     "text": [
      "========== RF_CLassifier ==========\n",
      "\n",
      "Accuracy on validation set: 0.9489\n",
      "\n",
      "Classification report : \n",
      "               precision    recall  f1-score   support\n",
      "\n",
      "           0       0.91      1.00      0.95      6623\n",
      "           1       0.98      0.94      0.96      6857\n",
      "           2       0.99      0.82      0.90      1776\n",
      "\n",
      "    accuracy                           0.95     15256\n",
      "   macro avg       0.96      0.92      0.94     15256\n",
      "weighted avg       0.95      0.95      0.95     15256\n",
      "\n",
      "\n",
      "Confusion Matrix : \n",
      " [[6593   29    1]\n",
      " [ 416 6422   19]\n",
      " [ 238   76 1462]]\n"
     ]
    },
    {
     "data": {
      "image/png": "[encoded data removed]",
      "text/plain": [
       "<Figure size 432x288 with 2 Axes>"
      ]
     },
     "metadata": {
      "needs_background": "light"
     },
     "output_type": "display_data"
    }
   ],
   "source": [
    "RF_res=modelEvaluation(preds_RF, y_test, 'RF_CLassifier', classes)\n",
    "collect_results_of_all_model[\"RF_CLassifier\"] = RF_res"
   ]
  },
  {
   "cell_type": "markdown",
   "id": "55f10628",
   "metadata": {},
   "source": [
    "## KNN Model"
   ]
  },
  {
   "cell_type": "code",
   "execution_count": 180,
   "id": "f236d972",
   "metadata": {},
   "outputs": [
    {
     "data": {
      "text/plain": [
       "KNeighborsClassifier()"
      ]
     },
     "execution_count": 180,
     "metadata": {},
     "output_type": "execute_result"
    }
   ],
   "source": [
    "from sklearn.neighbors import KNeighborsClassifier\n",
    "neighbors_clf = KNeighborsClassifier(n_neighbors=5,)\n",
    "neighbors_clf.fit(X_train,y_train)\n",
    "KNN_preds=neighbors_clf.predict(X_test)"
   ]
  },
  {
   "cell_type": "markdown",
   "id": "b91a42b7",
   "metadata": {},
   "source": [
    "## KNN Results"
   ]
  },
  {
   "cell_type": "code",
   "execution_count": 182,
   "id": "1efefb3c",
   "metadata": {
    "scrolled": true
   },
   "outputs": [
    {
     "name": "stdout",
     "output_type": "stream",
     "text": [
      "========== KNN_test ==========\n",
      "\n",
      "Accuracy on validation set: 0.8466\n",
      "\n",
      "Classification report : \n",
      "               precision    recall  f1-score   support\n",
      "\n",
      "           0       0.74      1.00      0.85      6623\n",
      "           1       0.99      0.74      0.85      6857\n",
      "           2       0.98      0.71      0.83      1776\n",
      "\n",
      "    accuracy                           0.85     15256\n",
      "   macro avg       0.91      0.82      0.84     15256\n",
      "weighted avg       0.88      0.85      0.85     15256\n",
      "\n",
      "\n",
      "Confusion Matrix : \n",
      " [[6596   22    5]\n",
      " [1787 5051   19]\n",
      " [ 493   14 1269]]\n"
     ]
    },
    {
     "data": {
      "image/png": "[encoded data removed]",
      "text/plain": [
       "<Figure size 432x288 with 2 Axes>"
      ]
     },
     "metadata": {
      "needs_background": "light"
     },
     "output_type": "display_data"
    }
   ],
   "source": [
    "KNN_res=modelEvaluation(KNN_preds,y_test,'KNN_test',classes)\n",
    "collect_results_of_all_model[\"KNN\"] = KNN_res"
   ]
  },
  {
   "cell_type": "markdown",
   "id": "ada3245d",
   "metadata": {},
   "source": [
    "# Results Comparison\n",
    "## Comparison Table"
   ]
  },
  {
   "cell_type": "code",
   "execution_count": 198,
   "id": "4b85e1da",
   "metadata": {},
   "outputs": [
    {
     "name": "stdout",
     "output_type": "stream",
     "text": [
      "+-----------+----------+----------+-----------------+----------+\n",
      "| Metrics   |     BERT |      SVC |   RF_CLassifier |      KNN |\n",
      "|-----------+----------+----------+-----------------+----------|\n",
      "| accuracy  | 0.984793 | 0.637979 |        0.948938 | 0.846618 |\n",
      "| precision | 0.980571 | 0.595433 |        0.960058 | 0.90583  |\n",
      "| recall    | 0.97865  | 0.615606 |        0.91841  | 0.81569  |\n",
      "| f1-score  | 0.979601 | 0.597047 |        0.93594  | 0.841304 |\n",
      "+-----------+----------+----------+-----------------+----------+\n"
     ]
    }
   ],
   "source": [
    "from tabulate import tabulate \n",
    "metrics_data_frame = pd.DataFrame(collect_results_of_all_model)#create dataframe\n",
    "metrics_data_frame = metrics_data_frame.set_index('Metrics')#set index\n",
    "# displaying the DataFrame\n",
    "print(tabulate(metrics_data_frame, headers = 'keys', tablefmt = 'psql'))#convert results in to table"
   ]
  },
  {
   "cell_type": "markdown",
   "id": "8ee625c5",
   "metadata": {},
   "source": [
    "## Comparison Bar Chart"
   ]
  },
  {
   "cell_type": "code",
   "execution_count": 199,
   "id": "69b8da2f",
   "metadata": {},
   "outputs": [
    {
     "data": {
      "image/png": "[encoded data removed]",
      "text/plain": [
       "<Figure size 1440x720 with 1 Axes>"
      ]
     },
     "metadata": {
      "needs_background": "light"
     },
     "output_type": "display_data"
    }
   ],
   "source": [
    "metrics_data_frame.plot(kind='bar', figsize=(20,10))#sho comparison base of mertics\n",
    "plt.show()"
   ]
  },
  {
   "cell_type": "markdown",
   "id": "f8d68a3c",
   "metadata": {},
   "source": [
    "## Accuracy Comparison Chart"
   ]
  },
  {
   "cell_type": "code",
   "execution_count": 202,
   "id": "dc0be992",
   "metadata": {},
   "outputs": [
    {
     "data": {
      "image/png": "[encoded data removed]",
      "text/plain": [
       "<Figure size 1080x360 with 1 Axes>"
      ]
     },
     "metadata": {
      "needs_background": "light"
     },
     "output_type": "display_data"
    }
   ],
   "source": [
    "models_accuracy = metrics_data_frame.iloc[0].tolist()#accuracy\n",
    "models_names = metrics_data_frame.columns.tolist()#name of model\n",
    "plt.figure(figsize=(15,5))\n",
    "plt.bar(models_names,models_accuracy)#bar plot\n",
    "plt.title(\"Models Accuracies\", fontsize=18)#title\n",
    "\n",
    "def addLabels(names,acc):\n",
    "    for i in range(len(names)):\n",
    "        plt.text(i,round(acc[i],2),f\"{round(acc[i],2)}%\", ha = 'center', bbox=dict(facecolor='cyan', alpha=0.9))\n",
    "\n",
    "addLabels(models_names,models_accuracy)#adding labels\n",
    "plt.show()"
   ]
  },
  {
   "cell_type": "code",
   "execution_count": null,
   "id": "6e16b8a2",
   "metadata": {},
   "outputs": [],
   "source": []
  }
 ],
 "metadata": {
  "kernelspec": {
   "display_name": "Python 3 (ipykernel)",
   "language": "python",
   "name": "python3"
  },
  "language_info": {
   "codemirror_mode": {
    "name": "ipython",
    "version": 3
   },
   "file_extension": ".py",
   "mimetype": "text/x-python",
   "name": "python",
   "nbconvert_exporter": "python",
   "pygments_lexer": "ipython3",
   "version": "3.7.13"
  }
 },
 "nbformat": 4,
 "nbformat_minor": 5
}
